{
 "cells": [
  {
   "cell_type": "code",
   "execution_count": 1,
   "metadata": {},
   "outputs": [],
   "source": [
    "#imports here\n",
    "\n",
    "import pytesseract\n",
    "from pdf2image import convert_from_path\n",
    "from PIL import Image\n",
    "import os"
   ]
  },
  {
   "cell_type": "code",
   "execution_count": 5,
   "metadata": {},
   "outputs": [
    {
     "name": "stdout",
     "output_type": "stream",
     "text": [
      "['2016-11-01_Statement.pdf', '2016-12-01_Statement.pdf', '2017-01-01_Statement.pdf', '2017-02-01_Statement.pdf', '2017-03-01_Statement.pdf', '2017-04-01_Statement.pdf', '2017-05-01_Statement.pdf', '2017-06-01_Statement.pdf', '2017-07-01_Statement.pdf', '2017-08-01_Statement.pdf', '2017-09-01_Statement.pdf', '2017-10-01_Statement.pdf', '2017-11-01_Statement.pdf', '2017-12-01_Statement.pdf', '2018-01-01_Statement.pdf', '2018-02-01_Statement.pdf', '2018-03-01_Statement.pdf', '2018-04-01_Statement.pdf', '2018-05-01_Statement.pdf', '2018-06-01_Statement.pdf', '2018-07-01_Statement.pdf', '2018-08-01_Statement.pdf', '2018-09-01_Statement.pdf', '2018-10-01_Statement.pdf', '2018-11-01_Statement.pdf', '2018-12-01_Statement.pdf', '2019-01-01_Statement.pdf', '2019-02-01_Statement.pdf', '2019-03-01_Statement.pdf', '2019-04-01_Statement.pdf', '2019-05-01_Statement.pdf', '2019-06-01_Statement.pdf', '2019-07-01_Statement.pdf', '2019-08-01_Statement.pdf', '2019-09-01_Statement.pdf', '2019-10-01_Statement.pdf', '2019-11-01_Statement.pdf', '2019-12-01_Statement.pdf', '2020-01-01_Statement.pdf', '2020-02-01_Statement.pdf', '2020-03-01_Statement.pdf', '2020-04-01_Statement.pdf', '2020-05-01_Statement.pdf', '2020-06-01_Statement.pdf', '2020-07-01_Statement.pdf', '2020-08-01_Statement.pdf', '2020-09-01_Statement.pdf', '2020-10-01_Statement.pdf', '2020-11-01_Statement.pdf', '2020-12-01_Statement.pdf', '2021-01-01_Statement.pdf', '2021-02-01_Statement.pdf', '2021-03-01_Statement.pdf', '2021-04-01_Statement.pdf', '2021-05-01_Statement.pdf', '2021-06-01_Statement.pdf', '2021-07-01_Statement.pdf', '2021-08-01_Statement.pdf', '2021-09-01_Statement.pdf', '2021-10-01_Statement.pdf', '2021-11-01_Statement.pdf', '2021-12-01_Statement.pdf', '2022-01-01_Statement.pdf', '2022-02-01_Statement.pdf', '2022-03-01_Statement.pdf', '2022-04-01_Statement.pdf']\n"
     ]
    }
   ],
   "source": [
    "#Turn all pdfs into a jpeg image\n",
    "print(os.listdir(\"data/unprocessed/debit\"))\n"
   ]
  },
  {
   "cell_type": "code",
   "execution_count": 205,
   "metadata": {},
   "outputs": [
    {
     "data": {
      "text/plain": [
       "(1700, 2200)"
      ]
     },
     "execution_count": 205,
     "metadata": {},
     "output_type": "execute_result"
    }
   ],
   "source": [
    "image_test = convert_from_path(\"data/unprocessed/debit/2018-07-01_Statement.pdf\")[1]\n",
    "image_test.size"
   ]
  },
  {
   "cell_type": "code",
   "execution_count": 206,
   "metadata": {},
   "outputs": [
    {
     "name": "stdout",
     "output_type": "stream",
     "text": [
      "05 JUN\n",
      "\n",
      "C/ACHAT 8421868 MAXI #8911\n",
      "\n",
      "22,85\n",
      "\n",
      "5 543,20\n",
      "\n"
     ]
    }
   ],
   "source": [
    "#image_test2 = image_test.crop((325,400,1650,2200))\n",
    "image_test2 = image_test.crop((325,397,1650,424))\n",
    "config = \"--psm 11\"\n",
    "string_temp = pytesseract.image_to_string(image_test2, config=config)\n",
    "print(string_temp)"
   ]
  },
  {
   "cell_type": "code",
   "execution_count": 207,
   "metadata": {},
   "outputs": [
    {
     "data": {
      "image/png": "[encoded data removed]",
      "text/plain": [
       "<PIL.Image.Image image mode=RGB size=1325x27>"
      ]
     },
     "execution_count": 207,
     "metadata": {},
     "output_type": "execute_result"
    }
   ],
   "source": [
    "\n",
    "image_test2"
   ]
  },
  {
   "cell_type": "code",
   "execution_count": 208,
   "metadata": {},
   "outputs": [
    {
     "name": "stdout",
     "output_type": "stream",
     "text": [
      "05 JUN CIACHAT 8421868 BREAKOUT 137,97 5 405,23\n",
      "\n"
     ]
    }
   ],
   "source": [
    "#image_test2 = image_test.crop((325,400,1650,2200))\n",
    "image_test3 = image_test.crop((325,430,1650,457))\n",
    "config = \"--psm 7 --oem 1\"\n",
    "string_temp = pytesseract.image_to_string(image_test3, config=config)\n",
    "print(string_temp)"
   ]
  },
  {
   "cell_type": "code",
   "execution_count": 209,
   "metadata": {},
   "outputs": [
    {
     "data": {
      "image/png": "[encoded data removed]",
      "text/plain": [
       "<PIL.Image.Image image mode=RGB size=1325x27>"
      ]
     },
     "execution_count": 209,
     "metadata": {},
     "output_type": "execute_result"
    }
   ],
   "source": [
    "image_test3"
   ]
  },
  {
   "cell_type": "code",
   "execution_count": 210,
   "metadata": {},
   "outputs": [
    {
     "name": "stdout",
     "output_type": "stream",
     "text": [
      "07 JUN CHEQUE NO1 302,50 5 102,73\n",
      "\n"
     ]
    }
   ],
   "source": [
    "image_test4 = image_test.crop((325,463,1650,490))\n",
    "config = \"--psm 7 --oem 1\"\n",
    "string_temp = pytesseract.image_to_string(image_test4, config=config)\n",
    "print(string_temp)"
   ]
  },
  {
   "cell_type": "code",
   "execution_count": 211,
   "metadata": {},
   "outputs": [
    {
     "data": {
      "image/png": "[encoded data removed]",
      "text/plain": [
       "<PIL.Image.Image image mode=RGB size=1325x27>"
      ]
     },
     "execution_count": 211,
     "metadata": {},
     "output_type": "execute_result"
    }
   ],
   "source": [
    "image_test4"
   ]
  },
  {
   "cell_type": "code",
   "execution_count": 218,
   "metadata": {},
   "outputs": [
    {
     "name": "stdout",
     "output_type": "stream",
     "text": [
      "11JUN\n",
      "\n",
      "C/ACHAT 8421868 PHARMAPRIX #004\n",
      "\n",
      "39,57\n",
      "\n",
      "5 063,16\n",
      "\n"
     ]
    }
   ],
   "source": [
    "image_test5 = image_test.crop((325,490+6,1650,490+6+27))\n",
    "config = \"--psm 12 --oem 1\"\n",
    "string_temp = pytesseract.image_to_string(image_test5, config=config)\n",
    "print(string_temp)"
   ]
  },
  {
   "cell_type": "code",
   "execution_count": 213,
   "metadata": {},
   "outputs": [
    {
     "data": {
      "image/png": "[encoded data removed]",
      "text/plain": [
       "<PIL.Image.Image image mode=RGB size=1325x27>"
      ]
     },
     "execution_count": 213,
     "metadata": {},
     "output_type": "execute_result"
    }
   ],
   "source": [
    "image_test5"
   ]
  },
  {
   "cell_type": "code",
   "execution_count": null,
   "metadata": {},
   "outputs": [],
   "source": []
  }
 ],
 "metadata": {
  "interpreter": {
   "hash": "d41f89ed4d108368e8da037f9a285a300ce50ee694a78633347275be4277e947"
  },
  "kernelspec": {
   "display_name": "Python 3.9.12 ('habit_env')",
   "language": "python",
   "name": "python3"
  },
  "language_info": {
   "codemirror_mode": {
    "name": "ipython",
    "version": 3
   },
   "file_extension": ".py",
   "mimetype": "text/x-python",
   "name": "python",
   "nbconvert_exporter": "python",
   "pygments_lexer": "ipython3",
   "version": "3.9.12"
  },
  "orig_nbformat": 4
 },
 "nbformat": 4,
 "nbformat_minor": 2
}
