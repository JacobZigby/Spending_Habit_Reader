{
 "cells": [
  {
   "cell_type": "code",
   "execution_count": 2,
   "metadata": {},
   "outputs": [],
   "source": [
    "import pytesseract\n",
    "from pdf2image import convert_from_path\n",
    "from PIL import Image\n",
    "import os\n",
    "import pandas as pd"
   ]
  },
  {
   "cell_type": "code",
   "execution_count": null,
   "metadata": {},
   "outputs": [],
   "source": [
    "temp1 = convert_from_path(\"data/unprocessed/debit/2016-11-01_Statement.pdf\")[1]\n",
    "config = \"--psm 12\" #working numbers 6, 11, 12\n",
    "print(pytesseract.image_to_string(temp1,config=config))"
   ]
  },
  {
   "cell_type": "code",
   "execution_count": null,
   "metadata": {},
   "outputs": [],
   "source": [
    "temp1 = convert_from_path(\"data/unprocessed/debit/2017-01-01_Statement.pdf\")[1]\n",
    "config = \"--psm 11\" #working numbers 6, 11, 12\n",
    "string_temp = pytesseract.image_to_string(temp1,config=config)\n",
    "print(string_temp.split(\"\\nDate\\n\\nDescription\\n\\nRetraits ($)\\n\\nDépots ($)\\n\\nSoldes ($)\")[1].split(\"Total\")[0].split(\"\\n\\n\")[4:])"
   ]
  },
  {
   "cell_type": "code",
   "execution_count": null,
   "metadata": {},
   "outputs": [],
   "source": [
    "temp1"
   ]
  },
  {
   "cell_type": "code",
   "execution_count": null,
   "metadata": {},
   "outputs": [],
   "source": [
    "print(pytesseract.image_to_string(temp1))"
   ]
  },
  {
   "cell_type": "code",
   "execution_count": null,
   "metadata": {},
   "outputs": [],
   "source": [
    "Image.open(temp1)"
   ]
  },
  {
   "cell_type": "markdown",
   "metadata": {},
   "source": [
    "Attempt 2"
   ]
  },
  {
   "cell_type": "code",
   "execution_count": null,
   "metadata": {},
   "outputs": [],
   "source": [
    "#Turn all pdfs into a jpeg image\n",
    "print(os.listdir(\"data/unprocessed/debit\"))\n"
   ]
  },
  {
   "cell_type": "code",
   "execution_count": null,
   "metadata": {},
   "outputs": [],
   "source": [
    "image_test = convert_from_path(\"data/unprocessed/debit/2016-11-01_Statement.pdf\")[1]\n",
    "image_test.size"
   ]
  },
  {
   "cell_type": "code",
   "execution_count": null,
   "metadata": {},
   "outputs": [],
   "source": [
    "#image_test2 = image_test.crop((325,400,1650,2200))\n",
    "image_test2 = image_test.crop((325,397,1650,424))\n",
    "config = \"--psm 12 --oem 1\"\n",
    "string_temp = pytesseract.image_to_string(image_test2, config=config)\n",
    "print(string_temp)"
   ]
  },
  {
   "cell_type": "code",
   "execution_count": null,
   "metadata": {},
   "outputs": [],
   "source": [
    "image_test2"
   ]
  },
  {
   "cell_type": "code",
   "execution_count": null,
   "metadata": {},
   "outputs": [],
   "source": [
    "#image_test2 = image_test.crop((325,400,1650,2200))\n",
    "image_test3 = image_test.crop((325,430,1650,457))\n",
    "config = \"--psm 7 --oem 1\"\n",
    "string_temp = pytesseract.image_to_string(image_test3, config=config)\n",
    "print(string_temp)"
   ]
  },
  {
   "cell_type": "code",
   "execution_count": null,
   "metadata": {},
   "outputs": [],
   "source": [
    "image_test3\n"
   ]
  },
  {
   "cell_type": "code",
   "execution_count": null,
   "metadata": {},
   "outputs": [],
   "source": [
    "image_test4 = image_test.crop((325,463,1650,490))\n",
    "config = \"--psm 7 --oem 1\"\n",
    "string_temp = pytesseract.image_to_string(image_test4, config=config)\n",
    "print(string_temp)"
   ]
  },
  {
   "cell_type": "code",
   "execution_count": null,
   "metadata": {},
   "outputs": [],
   "source": [
    "image_test4"
   ]
  },
  {
   "cell_type": "code",
   "execution_count": null,
   "metadata": {},
   "outputs": [],
   "source": [
    "image_test5 = image_test.crop((325,490+6,1650,490+6+27))\n",
    "config = \"--psm 12 --oem 1\"\n",
    "string_temp = pytesseract.image_to_string(image_test5, config=config)\n",
    "string_temp"
   ]
  },
  {
   "cell_type": "code",
   "execution_count": null,
   "metadata": {},
   "outputs": [],
   "source": [
    "image_test5"
   ]
  },
  {
   "cell_type": "code",
   "execution_count": null,
   "metadata": {},
   "outputs": [],
   "source": [
    "string_temp.rstrip(\"\\n\")"
   ]
  },
  {
   "cell_type": "markdown",
   "metadata": {},
   "source": [
    "Testing for cleaning"
   ]
  },
  {
   "cell_type": "code",
   "execution_count": 1,
   "metadata": {},
   "outputs": [],
   "source": [
    "import pandas as pd\n",
    "temp = pd.read_csv('data/processed/debit/2018-02-01.csv')\n",
    "temp_fileter = temp['date'].str.contains(r\"[0-3][0-9]\\s*[A-Z]{3}\")"
   ]
  },
  {
   "cell_type": "code",
   "execution_count": null,
   "metadata": {},
   "outputs": [],
   "source": [
    "temp[temp_fileter]"
   ]
  },
  {
   "cell_type": "code",
   "execution_count": null,
   "metadata": {},
   "outputs": [],
   "source": [
    "import pandas as pd\n",
    "#testing the concatination of csvs\n",
    "\"data/processed/debit/2016-12-01.csv\"\n",
    "temp1 = pd.read_csv(\"data/processed/debit/2016-11-01.csv\")\n",
    "temp2 = pd.read_csv(\"data/processed/debit/2016-12-01.csv\")\n",
    "pd.concat([temp1,temp2])"
   ]
  },
  {
   "cell_type": "code",
   "execution_count": null,
   "metadata": {},
   "outputs": [],
   "source": [
    "#create a year column for the data\n",
    "path = \"data/processed/debit/\"\n",
    "os.listdir(path)\n",
    "#step one turn the months into proper datetime objects\n",
    "month_to_num = {\"JAN\" : \"01\", \"FEV\" : \"02\", \"MAR\" : \"03\", \"AVR\" : \"04\", \"MAI\" : \"05\", \"JUN\" : \"06\", \"JUI\" : \"07\", \"AOU\" : \"08\", \"SEP\" : \"09\", \"OCT\" : \"10\", \"NOV\" : \"11\", \"DEC\" : \"12\"}\n",
    "\n",
    "\n",
    "#Lets do our testing here\n",
    "testing_file = \"data/processed/debit/2020-01-01.csv\"\n",
    "file_name = testing_file[-14:-4]\n",
    "testing_file = pd.read_csv(testing_file)\n",
    "offset = 0\n",
    "test = pd.to_datetime(file_name[:4] + testing_file['date'].str[-3:].map(month_to_num) + testing_file['date'].str[:2])\n",
    "testing_file[\"date\"] = test\n",
    "if(int(file_name[5:7]) == 1):\n",
    "    mask = testing_file[\"date\"].dt.month == 12\n",
    "    testing_file[\"date\"][mask] -= pd.DateOffset(years = 1)\n",
    "testing_file.to_csv(\"test.csv\",index=False)\n",
    "testing_file\n"
   ]
  },
  {
   "cell_type": "code",
   "execution_count": null,
   "metadata": {},
   "outputs": [],
   "source": [
    "pd.to_datetime(pd.read_csv(\"test.csv\")[\"date\"])"
   ]
  },
  {
   "cell_type": "code",
   "execution_count": 107,
   "metadata": {},
   "outputs": [],
   "source": [
    "#create a function to change the date column into a datetime series\n",
    "MONTH_TO_NUM = {\"JAN\" : \"01\", \"FEV\" : \"02\", \"MAR\" : \"03\", \"AVR\" : \"04\", \"MAI\" : \"05\", \"JUN\" : \"06\", \"JUI\" : \"07\", \"AOU\" : \"08\", \"SEP\" : \"09\", \"OCT\" : \"10\", \"NOV\" : \"11\", \"DEC\" : \"12\"}\n",
    "\n",
    "def create_datetime(df, file_name):\n",
    "    year= file_name[:4]\n",
    "    df[\"date\"] = pd.to_datetime(year + df[\"date\"].str[-3:].map(MONTH_TO_NUM) + df[\"date\"].str[:2])\n",
    "    if(file_name[5:7] == \"01\"):\n",
    "        #mask used to \n",
    "        mask = df[\"date\"].dt.month == 12\n",
    "        df[\"date\"][mask] -= pd.DateOffset(years = 1)\n",
    "    return df"
   ]
  },
  {
   "cell_type": "code",
   "execution_count": null,
   "metadata": {},
   "outputs": [],
   "source": [
    "#create a year column for the data\n",
    "path = \"data/processed/debit/\"\n",
    "files = os.listdir(path)\n",
    "for file in files:\n",
    "    print(file)\n",
    "    temp = create_datetime(pd.read_csv(path + file),file)\n",
    "    temp.to_csv(path+file, index=False)"
   ]
  },
  {
   "cell_type": "code",
   "execution_count": null,
   "metadata": {},
   "outputs": [],
   "source": [
    "pd.read_csv(\"data\\processed\\debit/2022-02-01.csv\")['total'].replace(r\"[^\\d]\",\"\", regex=True)"
   ]
  },
  {
   "cell_type": "markdown",
   "metadata": {},
   "source": [
    "Apply all things from function to backup here"
   ]
  }
 ],
 "metadata": {
  "interpreter": {
   "hash": "31668c276e2b8e47189cd17d89a548db85eb18b031d19ae00671844f6622a6b2"
  },
  "kernelspec": {
   "display_name": "Python 3.9.12 ('habit_env')",
   "language": "python",
   "name": "python3"
  },
  "language_info": {
   "codemirror_mode": {
    "name": "ipython",
    "version": 3
   },
   "file_extension": ".py",
   "mimetype": "text/x-python",
   "name": "python",
   "nbconvert_exporter": "python",
   "pygments_lexer": "ipython3",
   "version": "3.9.12"
  },
  "orig_nbformat": 4
 },
 "nbformat": 4,
 "nbformat_minor": 2
}
