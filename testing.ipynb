{
 "cells": [
  {
   "cell_type": "code",
   "execution_count": 9,
   "metadata": {},
   "outputs": [],
   "source": [
    "import pytesseract\n",
    "from pdf2image import convert_from_path\n",
    "from PIL import Image\n"
   ]
  },
  {
   "cell_type": "code",
   "execution_count": null,
   "metadata": {},
   "outputs": [],
   "source": [
    "temp1 = convert_from_path(\"data/unprocessed/debit/2016-11-01_Statement.pdf\")[1]\n",
    "config = \"--psm 12\" #working numbers 6, 11, 12\n",
    "print(pytesseract.image_to_string(temp1,config=config))"
   ]
  },
  {
   "cell_type": "code",
   "execution_count": null,
   "metadata": {},
   "outputs": [],
   "source": [
    "temp1 = convert_from_path(\"data/unprocessed/debit/2017-01-01_Statement.pdf\")[1]\n",
    "config = \"--psm 11\" #working numbers 6, 11, 12\n",
    "string_temp = pytesseract.image_to_string(temp1,config=config)\n",
    "print(string_temp.split(\"\\nDate\\n\\nDescription\\n\\nRetraits ($)\\n\\nDépots ($)\\n\\nSoldes ($)\")[1].split(\"Total\")[0].split(\"\\n\\n\")[4:])"
   ]
  },
  {
   "cell_type": "code",
   "execution_count": null,
   "metadata": {},
   "outputs": [],
   "source": [
    "temp1"
   ]
  },
  {
   "cell_type": "code",
   "execution_count": null,
   "metadata": {},
   "outputs": [],
   "source": [
    "print(pytesseract.image_to_string(temp1))"
   ]
  },
  {
   "cell_type": "code",
   "execution_count": null,
   "metadata": {},
   "outputs": [],
   "source": [
    "Image.open(temp1)"
   ]
  },
  {
   "cell_type": "code",
   "execution_count": null,
   "metadata": {},
   "outputs": [],
   "source": []
  }
 ],
 "metadata": {
  "interpreter": {
   "hash": "d41f89ed4d108368e8da037f9a285a300ce50ee694a78633347275be4277e947"
  },
  "kernelspec": {
   "display_name": "Python 3.9.12 ('habit_env')",
   "language": "python",
   "name": "python3"
  },
  "language_info": {
   "codemirror_mode": {
    "name": "ipython",
    "version": 3
   },
   "file_extension": ".py",
   "mimetype": "text/x-python",
   "name": "python",
   "nbconvert_exporter": "python",
   "pygments_lexer": "ipython3",
   "version": "3.9.12"
  },
  "orig_nbformat": 4
 },
 "nbformat": 4,
 "nbformat_minor": 2
}
