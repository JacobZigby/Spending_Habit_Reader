{
 "cells": [
  {
   "cell_type": "code",
   "execution_count": 2,
   "metadata": {},
   "outputs": [],
   "source": [
    "import pytesseract\n",
    "from pdf2image import convert_from_path\n",
    "from PIL import Image\n",
    "import os\n",
    "import pandas as pd"
   ]
  },
  {
   "cell_type": "code",
   "execution_count": null,
   "metadata": {},
   "outputs": [],
   "source": [
    "temp1 = convert_from_path(\"data/unprocessed/debit/2016-11-01_Statement.pdf\")[1]\n",
    "config = \"--psm 12\" #working numbers 6, 11, 12\n",
    "print(pytesseract.image_to_string(temp1,config=config))"
   ]
  },
  {
   "cell_type": "code",
   "execution_count": null,
   "metadata": {},
   "outputs": [],
   "source": [
    "temp1 = convert_from_path(\"data/unprocessed/debit/2017-01-01_Statement.pdf\")[1]\n",
    "config = \"--psm 11\" #working numbers 6, 11, 12\n",
    "string_temp = pytesseract.image_to_string(temp1,config=config)\n",
    "print(string_temp.split(\"\\nDate\\n\\nDescription\\n\\nRetraits ($)\\n\\nDépots ($)\\n\\nSoldes ($)\")[1].split(\"Total\")[0].split(\"\\n\\n\")[4:])"
   ]
  },
  {
   "cell_type": "code",
   "execution_count": null,
   "metadata": {},
   "outputs": [],
   "source": [
    "temp1"
   ]
  },
  {
   "cell_type": "code",
   "execution_count": null,
   "metadata": {},
   "outputs": [],
   "source": [
    "print(pytesseract.image_to_string(temp1))"
   ]
  },
  {
   "cell_type": "code",
   "execution_count": null,
   "metadata": {},
   "outputs": [],
   "source": [
    "Image.open(temp1)"
   ]
  },
  {
   "cell_type": "markdown",
   "metadata": {},
   "source": [
    "Attempt 2"
   ]
  },
  {
   "cell_type": "code",
   "execution_count": null,
   "metadata": {},
   "outputs": [],
   "source": [
    "#Turn all pdfs into a jpeg image\n",
    "print(os.listdir(\"data/unprocessed/debit\"))\n"
   ]
  },
  {
   "cell_type": "code",
   "execution_count": null,
   "metadata": {},
   "outputs": [],
   "source": [
    "image_test = convert_from_path(\"data/unprocessed/debit/2016-11-01_Statement.pdf\")[1]\n",
    "image_test.size"
   ]
  },
  {
   "cell_type": "code",
   "execution_count": null,
   "metadata": {},
   "outputs": [],
   "source": [
    "#image_test2 = image_test.crop((325,400,1650,2200))\n",
    "image_test2 = image_test.crop((325,397,1650,424))\n",
    "config = \"--psm 12 --oem 1\"\n",
    "string_temp = pytesseract.image_to_string(image_test2, config=config)\n",
    "print(string_temp)"
   ]
  },
  {
   "cell_type": "code",
   "execution_count": null,
   "metadata": {},
   "outputs": [],
   "source": [
    "image_test2"
   ]
  },
  {
   "cell_type": "code",
   "execution_count": null,
   "metadata": {},
   "outputs": [],
   "source": [
    "#image_test2 = image_test.crop((325,400,1650,2200))\n",
    "image_test3 = image_test.crop((325,430,1650,457))\n",
    "config = \"--psm 7 --oem 1\"\n",
    "string_temp = pytesseract.image_to_string(image_test3, config=config)\n",
    "print(string_temp)"
   ]
  },
  {
   "cell_type": "code",
   "execution_count": null,
   "metadata": {},
   "outputs": [],
   "source": [
    "image_test3\n"
   ]
  },
  {
   "cell_type": "code",
   "execution_count": null,
   "metadata": {},
   "outputs": [],
   "source": [
    "image_test4 = image_test.crop((325,463,1650,490))\n",
    "config = \"--psm 7 --oem 1\"\n",
    "string_temp = pytesseract.image_to_string(image_test4, config=config)\n",
    "print(string_temp)"
   ]
  },
  {
   "cell_type": "code",
   "execution_count": null,
   "metadata": {},
   "outputs": [],
   "source": [
    "image_test4"
   ]
  },
  {
   "cell_type": "code",
   "execution_count": null,
   "metadata": {},
   "outputs": [],
   "source": [
    "image_test5 = image_test.crop((325,490+6,1650,490+6+27))\n",
    "config = \"--psm 12 --oem 1\"\n",
    "string_temp = pytesseract.image_to_string(image_test5, config=config)\n",
    "string_temp"
   ]
  },
  {
   "cell_type": "code",
   "execution_count": null,
   "metadata": {},
   "outputs": [],
   "source": [
    "image_test5"
   ]
  },
  {
   "cell_type": "code",
   "execution_count": null,
   "metadata": {},
   "outputs": [],
   "source": [
    "string_temp.rstrip(\"\\n\")"
   ]
  },
  {
   "cell_type": "markdown",
   "metadata": {},
   "source": [
    "Testing for cleaning"
   ]
  },
  {
   "cell_type": "code",
   "execution_count": 12,
   "metadata": {},
   "outputs": [],
   "source": [
    "import pandas as pd\n",
    "temp = pd.read_csv('data/processed/debit/2021-02-01.csv')\n",
    "temp_fileter = temp['date'].str.contains(r\"[0-3][0-9]\\s*[A-Z]{3}\")"
   ]
  },
  {
   "cell_type": "code",
   "execution_count": 13,
   "metadata": {},
   "outputs": [
    {
     "data": {
      "text/html": [
       "<div>\n",
       "<style scoped>\n",
       "    .dataframe tbody tr th:only-of-type {\n",
       "        vertical-align: middle;\n",
       "    }\n",
       "\n",
       "    .dataframe tbody tr th {\n",
       "        vertical-align: top;\n",
       "    }\n",
       "\n",
       "    .dataframe thead th {\n",
       "        text-align: right;\n",
       "    }\n",
       "</style>\n",
       "<table border=\"1\" class=\"dataframe\">\n",
       "  <thead>\n",
       "    <tr style=\"text-align: right;\">\n",
       "      <th></th>\n",
       "      <th>date</th>\n",
       "      <th>description</th>\n",
       "      <th>charge</th>\n",
       "      <th>total</th>\n",
       "    </tr>\n",
       "  </thead>\n",
       "  <tbody>\n",
       "  </tbody>\n",
       "</table>\n",
       "</div>"
      ],
      "text/plain": [
       "Empty DataFrame\n",
       "Columns: [date, description, charge, total]\n",
       "Index: []"
      ]
     },
     "execution_count": 13,
     "metadata": {},
     "output_type": "execute_result"
    }
   ],
   "source": [
    "temp[temp_fileter]"
   ]
  },
  {
   "cell_type": "code",
   "execution_count": null,
   "metadata": {},
   "outputs": [],
   "source": [
    "import pandas as pd\n",
    "#testing the concatination of csvs\n",
    "\"data/processed/debit/2016-12-01.csv\"\n",
    "temp1 = pd.read_csv(\"data/processed/debit/2016-11-01.csv\")\n",
    "temp2 = pd.read_csv(\"data/processed/debit/2016-12-01.csv\")\n",
    "pd.concat([temp1,temp2])"
   ]
  },
  {
   "cell_type": "code",
   "execution_count": 9,
   "metadata": {},
   "outputs": [
    {
     "data": {
      "text/html": [
       "<div>\n",
       "<style scoped>\n",
       "    .dataframe tbody tr th:only-of-type {\n",
       "        vertical-align: middle;\n",
       "    }\n",
       "\n",
       "    .dataframe tbody tr th {\n",
       "        vertical-align: top;\n",
       "    }\n",
       "\n",
       "    .dataframe thead th {\n",
       "        text-align: right;\n",
       "    }\n",
       "</style>\n",
       "<table border=\"1\" class=\"dataframe\">\n",
       "  <thead>\n",
       "    <tr style=\"text-align: right;\">\n",
       "      <th></th>\n",
       "      <th>date</th>\n",
       "      <th>description</th>\n",
       "      <th>charge</th>\n",
       "      <th>total</th>\n",
       "    </tr>\n",
       "  </thead>\n",
       "  <tbody>\n",
       "    <tr>\n",
       "      <th>0</th>\n",
       "      <td>NaT</td>\n",
       "      <td>MOBILE VIRDT IT/PE</td>\n",
       "      <td>334.50</td>\n",
       "      <td>12817.20</td>\n",
       "    </tr>\n",
       "    <tr>\n",
       "      <th>1</th>\n",
       "      <td>NaT</td>\n",
       "      <td>CR. SOLIDARITE GOUV. QUEBEC</td>\n",
       "      <td>161.63</td>\n",
       "      <td>12978.83</td>\n",
       "    </tr>\n",
       "    <tr>\n",
       "      <th>2</th>\n",
       "      <td>NaT</td>\n",
       "      <td>TPS CANADA.</td>\n",
       "      <td>112.75</td>\n",
       "      <td>13091.58</td>\n",
       "    </tr>\n",
       "    <tr>\n",
       "      <th>3</th>\n",
       "      <td>NaT</td>\n",
       "      <td>C/ACHAT 8421868 AU BON SUSHI</td>\n",
       "      <td>21.16</td>\n",
       "      <td>13070.42</td>\n",
       "    </tr>\n",
       "    <tr>\n",
       "      <th>4</th>\n",
       "      <td>NaT</td>\n",
       "      <td>C/ACHAT 8421868 MARCHE J P FONT</td>\n",
       "      <td>46.03</td>\n",
       "      <td>13024.39</td>\n",
       "    </tr>\n",
       "    <tr>\n",
       "      <th>5</th>\n",
       "      <td>NaT</td>\n",
       "      <td>ASSURANCE SUN LIFE</td>\n",
       "      <td>18.68</td>\n",
       "      <td>13005.71</td>\n",
       "    </tr>\n",
       "    <tr>\n",
       "      <th>6</th>\n",
       "      <td>NaT</td>\n",
       "      <td>ASSURANCE SUN LIFE</td>\n",
       "      <td>48.56</td>\n",
       "      <td>12957.15</td>\n",
       "    </tr>\n",
       "    <tr>\n",
       "      <th>7</th>\n",
       "      <td>NaT</td>\n",
       "      <td>C/ACHAT 8421 868 BILLETTERIE LON</td>\n",
       "      <td>19.00</td>\n",
       "      <td>12938.15</td>\n",
       "    </tr>\n",
       "    <tr>\n",
       "      <th>8</th>\n",
       "      <td>NaT</td>\n",
       "      <td>COMPTE DIVERS PAYPAL</td>\n",
       "      <td>39.38</td>\n",
       "      <td>12898.77</td>\n",
       "    </tr>\n",
       "    <tr>\n",
       "      <th>9</th>\n",
       "      <td>NaT</td>\n",
       "      <td>C/ACHAT 8421868 COUCHE-TARD # 1</td>\n",
       "      <td>13.11</td>\n",
       "      <td>12885.66</td>\n",
       "    </tr>\n",
       "    <tr>\n",
       "      <th>10</th>\n",
       "      <td>NaT</td>\n",
       "      <td>COMPTE DIVERS PAYPAL</td>\n",
       "      <td>34.46</td>\n",
       "      <td>12851.20</td>\n",
       "    </tr>\n",
       "    <tr>\n",
       "      <th>11</th>\n",
       "      <td>NaT</td>\n",
       "      <td>COMPTE DIVERS PAYPAL</td>\n",
       "      <td>16.49</td>\n",
       "      <td>12834.71</td>\n",
       "    </tr>\n",
       "    <tr>\n",
       "      <th>12</th>\n",
       "      <td>NaT</td>\n",
       "      <td>MOBILE VIRDT IT/PE</td>\n",
       "      <td>39.00</td>\n",
       "      <td>12795.71</td>\n",
       "    </tr>\n",
       "    <tr>\n",
       "      <th>13</th>\n",
       "      <td>NaT</td>\n",
       "      <td>COMPTE DIVERS PAYPAL</td>\n",
       "      <td>24.71</td>\n",
       "      <td>12771.00</td>\n",
       "    </tr>\n",
       "    <tr>\n",
       "      <th>14</th>\n",
       "      <td>NaT</td>\n",
       "      <td>C/ACHAT 8421868 MAXI #8911</td>\n",
       "      <td>79.90</td>\n",
       "      <td>12691.10</td>\n",
       "    </tr>\n",
       "    <tr>\n",
       "      <th>15</th>\n",
       "      <td>NaT</td>\n",
       "      <td>MOBILE VIRCR IT/PE</td>\n",
       "      <td>39.95</td>\n",
       "      <td>12731.05</td>\n",
       "    </tr>\n",
       "    <tr>\n",
       "      <th>16</th>\n",
       "      <td>NaT</td>\n",
       "      <td>COMPTE DIVERS PAYPAL</td>\n",
       "      <td>2.00</td>\n",
       "      <td>12729.05</td>\n",
       "    </tr>\n",
       "    <tr>\n",
       "      <th>17</th>\n",
       "      <td>NaT</td>\n",
       "      <td>MOBILE VIRDT IT/PE</td>\n",
       "      <td>15.00</td>\n",
       "      <td>12714.05</td>\n",
       "    </tr>\n",
       "    <tr>\n",
       "      <th>18</th>\n",
       "      <td>NaT</td>\n",
       "      <td>MOBILE VIRDT IT/PE</td>\n",
       "      <td>23.50</td>\n",
       "      <td>12690.55</td>\n",
       "    </tr>\n",
       "    <tr>\n",
       "      <th>19</th>\n",
       "      <td>NaT</td>\n",
       "      <td>C/ACHAT 8421868 COUCHETARD #431</td>\n",
       "      <td>7.45</td>\n",
       "      <td>12683.10</td>\n",
       "    </tr>\n",
       "    <tr>\n",
       "      <th>20</th>\n",
       "      <td>NaT</td>\n",
       "      <td>MOBILE PAIEM/FAC</td>\n",
       "      <td>212.54</td>\n",
       "      <td>12470.56</td>\n",
       "    </tr>\n",
       "    <tr>\n",
       "      <th>21</th>\n",
       "      <td>NaT</td>\n",
       "      <td>MOBILE PAIEM/FAC</td>\n",
       "      <td>98.01</td>\n",
       "      <td>12372.55</td>\n",
       "    </tr>\n",
       "    <tr>\n",
       "      <th>22</th>\n",
       "      <td>NaT</td>\n",
       "      <td>MOBILE PAIEM/FAC</td>\n",
       "      <td>68.31</td>\n",
       "      <td>12304.24</td>\n",
       "    </tr>\n",
       "    <tr>\n",
       "      <th>23</th>\n",
       "      <td>NaT</td>\n",
       "      <td>COMPTE DIVERS PAYPAL</td>\n",
       "      <td>20.63</td>\n",
       "      <td>12283.61</td>\n",
       "    </tr>\n",
       "    <tr>\n",
       "      <th>24</th>\n",
       "      <td>NaT</td>\n",
       "      <td>C/ACHAT 8421868 COUCHETARD #431</td>\n",
       "      <td>8.95</td>\n",
       "      <td>12274.66</td>\n",
       "    </tr>\n",
       "    <tr>\n",
       "      <th>25</th>\n",
       "      <td>NaT</td>\n",
       "      <td>PAIEMENT FEDERAL CANADA</td>\n",
       "      <td>900.00</td>\n",
       "      <td>13174.66</td>\n",
       "    </tr>\n",
       "    <tr>\n",
       "      <th>26</th>\n",
       "      <td>NaT</td>\n",
       "      <td>PAIEMENT FEDERAL CANADA</td>\n",
       "      <td>900.00</td>\n",
       "      <td>14074.66</td>\n",
       "    </tr>\n",
       "  </tbody>\n",
       "</table>\n",
       "</div>"
      ],
      "text/plain": [
       "   date                       description  charge     total\n",
       "0   NaT                MOBILE VIRDT IT/PE  334.50  12817.20\n",
       "1   NaT       CR. SOLIDARITE GOUV. QUEBEC  161.63  12978.83\n",
       "2   NaT                       TPS CANADA.  112.75  13091.58\n",
       "3   NaT      C/ACHAT 8421868 AU BON SUSHI   21.16  13070.42\n",
       "4   NaT   C/ACHAT 8421868 MARCHE J P FONT   46.03  13024.39\n",
       "5   NaT                ASSURANCE SUN LIFE   18.68  13005.71\n",
       "6   NaT                ASSURANCE SUN LIFE   48.56  12957.15\n",
       "7   NaT  C/ACHAT 8421 868 BILLETTERIE LON   19.00  12938.15\n",
       "8   NaT              COMPTE DIVERS PAYPAL   39.38  12898.77\n",
       "9   NaT   C/ACHAT 8421868 COUCHE-TARD # 1   13.11  12885.66\n",
       "10  NaT              COMPTE DIVERS PAYPAL   34.46  12851.20\n",
       "11  NaT              COMPTE DIVERS PAYPAL   16.49  12834.71\n",
       "12  NaT                MOBILE VIRDT IT/PE   39.00  12795.71\n",
       "13  NaT              COMPTE DIVERS PAYPAL   24.71  12771.00\n",
       "14  NaT        C/ACHAT 8421868 MAXI #8911   79.90  12691.10\n",
       "15  NaT                MOBILE VIRCR IT/PE   39.95  12731.05\n",
       "16  NaT              COMPTE DIVERS PAYPAL    2.00  12729.05\n",
       "17  NaT                MOBILE VIRDT IT/PE   15.00  12714.05\n",
       "18  NaT                MOBILE VIRDT IT/PE   23.50  12690.55\n",
       "19  NaT   C/ACHAT 8421868 COUCHETARD #431    7.45  12683.10\n",
       "20  NaT                  MOBILE PAIEM/FAC  212.54  12470.56\n",
       "21  NaT                  MOBILE PAIEM/FAC   98.01  12372.55\n",
       "22  NaT                  MOBILE PAIEM/FAC   68.31  12304.24\n",
       "23  NaT              COMPTE DIVERS PAYPAL   20.63  12283.61\n",
       "24  NaT   C/ACHAT 8421868 COUCHETARD #431    8.95  12274.66\n",
       "25  NaT           PAIEMENT FEDERAL CANADA  900.00  13174.66\n",
       "26  NaT           PAIEMENT FEDERAL CANADA  900.00  14074.66"
      ]
     },
     "execution_count": 9,
     "metadata": {},
     "output_type": "execute_result"
    }
   ],
   "source": [
    "#create a year column for the data\n",
    "path = \"data/processed/debit/\"\n",
    "os.listdir(path)\n",
    "#step one turn the months into proper datetime objects\n",
    "month_to_num = {\"JAN\" : \"01\", \"FEV\" : \"02\", \"MAR\" : \"03\", \"AVR\" : \"04\", \"MAI\" : \"05\", \"JUN\" : \"06\", \"JUI\" : \"07\", \"AOU\" : \"08\", \"SEP\" : \"09\", \"OCT\" : \"10\", \"NOV\" : \"11\", \"DEC\" : \"12\"}\n",
    "\n",
    "\n",
    "#Lets do our testing here\n",
    "testing_file = \"data/processed/debit/2021-02-01.csv\"\n",
    "file_name = testing_file[-14:-4]\n",
    "testing_file = pd.read_csv(testing_file)\n",
    "offset = 0\n",
    "test = pd.to_datetime(file_name[:4] + testing_file['date'].str[-3:].map(month_to_num) + testing_file['date'].str[:2])\n",
    "testing_file[\"date\"] = test\n",
    "if(int(file_name[5:7]) == 1):\n",
    "    mask = testing_file[\"date\"].dt.month == 12\n",
    "    testing_file[\"date\"][mask] -= pd.DateOffset(years = 1)\n",
    "testing_file.to_csv(\"test.csv\",index=False)\n",
    "testing_file\n"
   ]
  },
  {
   "cell_type": "code",
   "execution_count": null,
   "metadata": {},
   "outputs": [],
   "source": [
    "pd.to_datetime(pd.read_csv(\"test.csv\")[\"date\"])"
   ]
  },
  {
   "cell_type": "code",
   "execution_count": 2,
   "metadata": {},
   "outputs": [],
   "source": [
    "#create a function to change the date column into a datetime series\n",
    "MONTH_TO_NUM = {\"JAN\" : \"01\", \"FEV\" : \"02\", \"MAR\" : \"03\", \"AVR\" : \"04\", \"MAI\" : \"05\", \"JUN\" : \"06\", \"JUI\" : \"07\", \"AOU\" : \"08\", \"SEP\" : \"09\", \"OCT\" : \"10\", \"NOV\" : \"11\", \"DEC\" : \"12\"}\n",
    "\n",
    "def create_datetime(df, file_name):\n",
    "    year= file_name[:4]\n",
    "    df[\"date\"] = pd.to_datetime(year + df[\"date\"].str[-3:].map(MONTH_TO_NUM) + df[\"date\"].str[:2])\n",
    "    if(file_name[5:7] == \"01\"):\n",
    "        #mask used to \n",
    "        mask = df[\"date\"].dt.month == 12\n",
    "        df[\"date\"][mask] -= pd.DateOffset(years = 1)\n",
    "    return df"
   ]
  },
  {
   "cell_type": "code",
   "execution_count": null,
   "metadata": {},
   "outputs": [
    {
     "ename": "",
     "evalue": "",
     "output_type": "error",
     "traceback": [
      "\u001b[1;31mThe Kernel crashed while executing code in the the current cell or a previous cell. Please review the code in the cell(s) to identify a possible cause of the failure. Click <a href='https://aka.ms/vscodeJupyterKernelCrash'>here</a> for more info. View Jupyter <a href='command:jupyter.viewOutput'>log</a> for further details."
     ]
    }
   ],
   "source": [
    "#create a year column for the data\n",
    "path = \"data/processed/debit/\"\n",
    "files = os.listdir(path)\n",
    "for file in files:\n",
    "    print(file)\n",
    "    temp = create_datetime(pd.read_csv(path + file),file)\n",
    "    temp.to_csv(path+file, index=False)"
   ]
  },
  {
   "cell_type": "code",
   "execution_count": 3,
   "metadata": {},
   "outputs": [
    {
     "data": {
      "text/plain": [
       "0     4406.57\n",
       "1     4326.10\n",
       "2     4440.10\n",
       "3     4603.85\n",
       "4     4585.17\n",
       "5     4536.61\n",
       "6     4854.68\n",
       "7     5261.23\n",
       "8     5451.23\n",
       "9     5535.82\n",
       "10    5472.88\n",
       "11    5454.50\n",
       "12    5642.50\n",
       "13    5617.92\n",
       "14    5612.45\n",
       "15    5584.00\n",
       "16    3084.00\n",
       "17    2946.01\n",
       "18    2841.00\n",
       "19    1736.39\n",
       "20    2006.39\n",
       "21    2276.39\n",
       "22    2293.39\n",
       "23    2481.39\n",
       "24    2605.99\n",
       "25    2805.99\n",
       "26    2855.99\n",
       "27    3605.99\n",
       "28    2105.99\n",
       "29    2023.77\n",
       "30    2051.03\n",
       "Name: total, dtype: float64"
      ]
     },
     "execution_count": 3,
     "metadata": {},
     "output_type": "execute_result"
    }
   ],
   "source": [
    "pd.read_csv(\"data\\processed\\debit/2022-02-01.csv\")['total'].replace(r\"[^\\d]\",\"\", regex=True)"
   ]
  },
  {
   "cell_type": "markdown",
   "metadata": {},
   "source": [
    "Apply all things from function to backup here"
   ]
  },
  {
   "cell_type": "code",
   "execution_count": 4,
   "metadata": {},
   "outputs": [],
   "source": [
    "#create a year column for the data\n",
    "path = \"data/processed/debit/\"\n",
    "files = os.listdir(path)\n",
    "for file in files:\n",
    "    df = pd.read_csv(path + file)\n",
    "\n",
    "    #change the format of total and charge so we can use it without error later\n",
    "    df[\"total\"] = df[\"total\"].replace(r\"[^\\d]\", \"\", regex=True)\n",
    "    df[\"charge\"] = df[\"charge\"].replace(r\"[^\\d]\", \"\", regex=True)\n",
    "    #turn it into a decimal\n",
    "    df[\"total\"] = df[\"total\"].str[:-2] + \".\" + df[\"total\"].str[-2:]\n",
    "    df[\"charge\"] = df[\"charge\"].str[:-2] + \".\" + df[\"charge\"].str[-2:]\n",
    "    df.to_csv(path + file, index=False)"
   ]
  },
  {
   "cell_type": "code",
   "execution_count": 54,
   "metadata": {},
   "outputs": [
    {
     "data": {
      "text/plain": [
       "'OOOO02o JAN'"
      ]
     },
     "execution_count": 54,
     "metadata": {},
     "output_type": "execute_result"
    }
   ],
   "source": [
    "import re\n",
    "error = \"OOOO02o JAN\"\n",
    "pattern = r\"[^\\s*[A-Z]{3}]\"\n",
    "pattern = r\"^\\D+[^[0-3][0-9]]\"\n",
    "re.sub(pattern, \"\", error)"
   ]
  },
  {
   "cell_type": "code",
   "execution_count": 78,
   "metadata": {},
   "outputs": [],
   "source": [
    "import pandas as pd\n",
    "#here we will do some catagorizing of the descriptions on the data and create a make shift catagorizer\n",
    "test = pd.read_csv(\"expenses.csv\").dropna()\n",
    "test.pop(\"total\")\n",
    "test[\"catagory\"] = pd.NA\n",
    "bills = [\n",
    "    \"frais\",\n",
    "    \"fr tenue\",\n",
    "    \"interets decouvert\",\n",
    "    \"ASSURANCE SUN LIFE\",\n",
    "    \"TRANS. EXCEDENT.\"\n",
    "]\n",
    "mobile_payments = [\n",
    "    \"mobile\",\n",
    "    \"internet paiem\"\n",
    "]\n",
    "transport = [\n",
    "    \"billetterie lon\",\n",
    "    \"billeterie du\",\n",
    "    \"stm\",\n",
    "    \"BILLETTERIE TER\"\n",
    "]\n",
    "resturants = [\n",
    "    \"la belle provin\",\n",
    "    \"mcdonald\",\n",
    "    \"krispy kreme\",\n",
    "    \"tim horton\",\n",
    "    \"tims hortons\",\n",
    "    \"cafe gar\",\n",
    "    \"subway\",\n",
    "    \"cantine\",\n",
    "    \"restaurants\",\n",
    "    \"dairy queen\",\n",
    "    \"dunns\",\n",
    "    \"eggsquis\",\n",
    "    \"thai express\",\n",
    "    \"pizzahut\",\n",
    "    \"n g drive in\",\n",
    "    \"pizza pizza\",\n",
    "    \"amir\",\n",
    "    \"frite alors\",\n",
    "    \"au bon sushi\",\n",
    "    \"ROTISSERIE\",\n",
    "    \"boustan\",\n",
    "    \"TUTTI FRUTTI\",\n",
    "    \"benny bbq\",\n",
    "    \"nos thes\",\n",
    "    \"wendys\",\n",
    "    \"thai expr\",\n",
    "    \"buffet\",\n",
    "    \"EAST SIDE MARIO\",\n",
    "    \"kalbi\",\n",
    "    \"a&w\",\n",
    "    \"DISTILLERIE\",\n",
    "    \"KINTON RAMEN\",\n",
    "    \"resto\",\n",
    "    \"harvey\",\n",
    "    \"cafe\",\n",
    "    \"LA DIPERIE\"\n",
    "]\n",
    "groceries = [\n",
    "    \"maxi\",\n",
    "    \"super c\",\n",
    "    \"iga extra\",\n",
    "    \"depanneur\",\n",
    "    \"provigo\",\n",
    "    \"ALIMENTS KIM PH\",\n",
    "    \"FRUITERIE 440\",\n",
    "    \"metro\"\n",
    "]\n",
    "gas_station = [\n",
    "    \"petro-canada\",\n",
    "    \"couche-tard\",\n",
    "    \"couchetard\",\n",
    "    \"ULTRAMAR\"\n",
    "]\n",
    "withdraws = [\n",
    "    \"retrait\"\n",
    "]\n",
    "food = [\n",
    "    \"LE TERROIR DE D\"\n",
    "]\n",
    "office_ware = [\n",
    "    \"bureau en gros\",\n",
    "    \"BKSTR CHAMPLAIN\"\n",
    "]\n",
    "hard_ware = [\n",
    "    \"home depot\",\n",
    "    \"canadian tire\"\n",
    "]\n",
    "home_ware = [\n",
    "    \"economax\"\n",
    "]\n",
    "electronics = [\n",
    "    \"best buy\",\n",
    "    \"canada computer\",\n",
    "    \"eb games\",\n",
    "    \"superclub video\"\n",
    "]\n",
    "retail = [\n",
    "    \"wal-mart\",\n",
    "    \"tigre geant\",\n",
    "    \"dollarama\",\n",
    "    \"animal expert\",\n",
    "    \"party expert\",\n",
    "    \"tristan\",\n",
    "    \"marche\",\n",
    "    \"IMAGINUS CANADA\", # posters\n",
    "    \"jeans factory\",\n",
    "    \"game keeper\", #board game store,\n",
    "    \"aldo\",\n",
    "    \"yellow\",\n",
    "    \"AUBAINERIE\",\n",
    "    \"CLAIR DE LUNE\",\n",
    "    \"lush\",\n",
    "    \"giant tiger\",\n",
    "    \"bongia\",\n",
    "    \"sephora\",\n",
    "    \"FERNANDE FLEURI\",\n",
    "    \"SQDC\",\n",
    "    \"SAQ\",\n",
    "    \"ardene\",\n",
    "    \"MEGA VENTE\",\n",
    "    \"LA VIE EN ROSE\",\n",
    "    \"h&m\"\n",
    "]\n",
    "medical = [\n",
    "    \"pharmaprix\",\n",
    "    \"jean coutu\",\n",
    "    \"CLIN VISUELLE\",\n",
    "    \"pharm\"\n",
    "]\n",
    "paypal = [\n",
    "    \"paypal\"\n",
    "]\n",
    "interact_transfers = [ \n",
    "    \"interac\"\n",
    "]\n",
    "investments = [ \n",
    "    \"invest\"\n",
    "]\n",
    "activity = [ \n",
    "    \"BREAKOUT\",\n",
    "    \"DOMAINE DU SKI\",\n",
    "    \"MOUNTAIN EQUIPM\"\n",
    "]\n",
    "cheque = [\n",
    "    \"cheque\"\n",
    "]\n",
    "#mask creations\n",
    "test.loc[test[\"description\"].str.contains(\"|\".join(bills), case=False), \"catagory\"] = \"bills\" # bills\n",
    "test.loc[test[\"description\"].str.contains(\"|\".join(mobile_payments), case=False),'catagory'] = \"mobile_payments\" #bills\n",
    "test.loc[test[\"description\"].str.contains(\"|\".join(transport), case=False),'catagory'] = \"transport\" #bills\n",
    "test.loc[test[\"description\"].str.contains(\"|\".join(resturants), case=False),'catagory'] = \"resturants\" #food\n",
    "test.loc[test[\"description\"].str.contains(\"|\".join(groceries), case=False),'catagory'] = \"groceries\" #food\n",
    "test.loc[test[\"description\"].str.contains(\"|\".join(gas_station), case=False),'catagory'] = \"gas_station\" #bills/leisure\n",
    "test.loc[test[\"description\"].str.contains(\"|\".join(withdraws), case=False),'catagory'] = \"withdraws\" #other\n",
    "test.loc[test[\"description\"].str.contains(\"|\".join(food), case=False),'catagory'] = \"food\" # food/retail\n",
    "test.loc[test[\"description\"].str.contains(\"|\".join(office_ware), case=False),'catagory'] = \"office_ware\" #retail\n",
    "test.loc[test[\"description\"].str.contains(\"|\".join(hard_ware), case=False),'catagory'] = \"hard_ware\" #retail\n",
    "test.loc[test[\"description\"].str.contains(\"|\".join(home_ware), case=False),'catagory'] = \"home_ware\" #retail\n",
    "test.loc[test[\"description\"].str.contains(\"|\".join(electronics), case=False),'catagory'] = \"electronics\" #retail\n",
    "test.loc[test[\"description\"].str.contains(\"|\".join(retail), case=False),'catagory'] = \"retail\" #retail\n",
    "test.loc[test[\"description\"].str.contains(\"|\".join(medical), case=False),'catagory'] = \"medical\" #bills\n",
    "test.loc[test[\"description\"].str.contains(\"|\".join(paypal), case=False),'catagory'] = \"paypal\" #paypal\n",
    "test.loc[test[\"description\"].str.contains(\"|\".join(interact_transfers), case=False),'catagory'] = \"interact\" #interact\n",
    "test.loc[test[\"description\"].str.contains(\"|\".join(investments), case=False),'catagory'] = \"investment\" #investment\n",
    "test.loc[test[\"description\"].str.contains(\"|\".join(activity), case=False),'catagory'] = \"activity\" #luxury\n",
    "test.loc[test[\"description\"].str.contains(\"|\".join(cheque), case=False),'catagory'] = \"cheque\" #cheques\n",
    "test.loc[test.catagory.isna(), 'catagory'] = \"other\" #for uncatagorized\n",
    "\n",
    "#make two cats [nec and lux]"
   ]
  },
  {
   "cell_type": "code",
   "execution_count": 76,
   "metadata": {},
   "outputs": [
    {
     "data": {
      "text/html": [
       "<div>\n",
       "<style scoped>\n",
       "    .dataframe tbody tr th:only-of-type {\n",
       "        vertical-align: middle;\n",
       "    }\n",
       "\n",
       "    .dataframe tbody tr th {\n",
       "        vertical-align: top;\n",
       "    }\n",
       "\n",
       "    .dataframe thead th {\n",
       "        text-align: right;\n",
       "    }\n",
       "</style>\n",
       "<table border=\"1\" class=\"dataframe\">\n",
       "  <thead>\n",
       "    <tr style=\"text-align: right;\">\n",
       "      <th></th>\n",
       "      <th>date</th>\n",
       "      <th>description</th>\n",
       "      <th>charge</th>\n",
       "      <th>catagory</th>\n",
       "    </tr>\n",
       "  </thead>\n",
       "  <tbody>\n",
       "    <tr>\n",
       "      <th>0</th>\n",
       "      <td>2016-11-01</td>\n",
       "      <td>FRAIS FIXES</td>\n",
       "      <td>0.44</td>\n",
       "      <td>bills</td>\n",
       "    </tr>\n",
       "    <tr>\n",
       "      <th>1</th>\n",
       "      <td>2016-12-01</td>\n",
       "      <td>FR TENUE DE CPTE</td>\n",
       "      <td>2.50</td>\n",
       "      <td>bills</td>\n",
       "    </tr>\n",
       "    <tr>\n",
       "      <th>2</th>\n",
       "      <td>2016-12-01</td>\n",
       "      <td>FRAIS FIXES</td>\n",
       "      <td>2.75</td>\n",
       "      <td>bills</td>\n",
       "    </tr>\n",
       "    <tr>\n",
       "      <th>3</th>\n",
       "      <td>2016-12-01</td>\n",
       "      <td>INTERETS DECOUVERT</td>\n",
       "      <td>0.05</td>\n",
       "      <td>bills</td>\n",
       "    </tr>\n",
       "    <tr>\n",
       "      <th>4</th>\n",
       "      <td>2016-12-30</td>\n",
       "      <td>FRAIS FIXES</td>\n",
       "      <td>2.75</td>\n",
       "      <td>bills</td>\n",
       "    </tr>\n",
       "    <tr>\n",
       "      <th>...</th>\n",
       "      <td>...</td>\n",
       "      <td>...</td>\n",
       "      <td>...</td>\n",
       "      <td>...</td>\n",
       "    </tr>\n",
       "    <tr>\n",
       "      <th>1145</th>\n",
       "      <td>2022-03-18</td>\n",
       "      <td>COMPTE DIVERS PAYPAL</td>\n",
       "      <td>24.58</td>\n",
       "      <td>paypal</td>\n",
       "    </tr>\n",
       "    <tr>\n",
       "      <th>1146</th>\n",
       "      <td>2022-03-22</td>\n",
       "      <td>VIREMENT INTERAC</td>\n",
       "      <td>96.14</td>\n",
       "      <td>interact</td>\n",
       "    </tr>\n",
       "    <tr>\n",
       "      <th>1147</th>\n",
       "      <td>2022-03-28</td>\n",
       "      <td>MOBILE VIREMENTMC</td>\n",
       "      <td>728.92</td>\n",
       "      <td>mobile_payments</td>\n",
       "    </tr>\n",
       "    <tr>\n",
       "      <th>1148</th>\n",
       "      <td>2022-03-29</td>\n",
       "      <td>COMPTE DIVERS PAYPAL</td>\n",
       "      <td>44.43</td>\n",
       "      <td>paypal</td>\n",
       "    </tr>\n",
       "    <tr>\n",
       "      <th>1149</th>\n",
       "      <td>2022-04-01</td>\n",
       "      <td>VIREMENT INTERAC</td>\n",
       "      <td>1500.00</td>\n",
       "      <td>interact</td>\n",
       "    </tr>\n",
       "  </tbody>\n",
       "</table>\n",
       "<p>1149 rows × 4 columns</p>\n",
       "</div>"
      ],
      "text/plain": [
       "            date           description   charge         catagory\n",
       "0     2016-11-01           FRAIS FIXES     0.44            bills\n",
       "1     2016-12-01      FR TENUE DE CPTE     2.50            bills\n",
       "2     2016-12-01           FRAIS FIXES     2.75            bills\n",
       "3     2016-12-01    INTERETS DECOUVERT     0.05            bills\n",
       "4     2016-12-30           FRAIS FIXES     2.75            bills\n",
       "...          ...                   ...      ...              ...\n",
       "1145  2022-03-18  COMPTE DIVERS PAYPAL    24.58           paypal\n",
       "1146  2022-03-22      VIREMENT INTERAC    96.14         interact\n",
       "1147  2022-03-28     MOBILE VIREMENTMC   728.92  mobile_payments\n",
       "1148  2022-03-29  COMPTE DIVERS PAYPAL    44.43           paypal\n",
       "1149  2022-04-01      VIREMENT INTERAC  1500.00         interact\n",
       "\n",
       "[1149 rows x 4 columns]"
      ]
     },
     "execution_count": 76,
     "metadata": {},
     "output_type": "execute_result"
    }
   ],
   "source": [
    "#test[test[\"description\"].str.contains('LE BISTROM', case=False)]\n",
    "test"
   ]
  },
  {
   "cell_type": "code",
   "execution_count": 96,
   "metadata": {},
   "outputs": [
    {
     "data": {
      "text/plain": [
       "'mobile'"
      ]
     },
     "execution_count": 96,
     "metadata": {},
     "output_type": "execute_result"
    }
   ],
   "source": [
    "\"|\".join(mobile_payments)"
   ]
  },
  {
   "cell_type": "code",
   "execution_count": 79,
   "metadata": {},
   "outputs": [
    {
     "data": {
      "text/plain": [
       "array(['bills', 'travel', 'food', 'other', 'retail', 'third_party'],\n",
       "      dtype=object)"
      ]
     },
     "execution_count": 79,
     "metadata": {},
     "output_type": "execute_result"
    }
   ],
   "source": [
    "#for the sake of a prototpye we will only keep three catagories: bills, food, travel, third_party, retail, other\n",
    "bills_cat = [\"bills\", \"mobile_payments\", \"medical\"]\n",
    "food_cat = [\"resturants\", \"groceries\", \"food\"]\n",
    "travel_cat = [\"transport\", \"gas_station\"]\n",
    "third_cat = [\"paypal\", \"interact\"]\n",
    "retail_cat = [\"retail\", \"hard_ware\", \"home_ware\", \"electronics\"]\n",
    "sum_list = [\"bills\", \"food\", \"travel\", \"third_party\", \"retail\"]\n",
    "test.loc[test.catagory.isin(bills_cat), \"catagory\"] = \"bills\"\n",
    "test.loc[test.catagory.isin(food_cat), \"catagory\"] = \"food\"\n",
    "test.loc[test.catagory.isin(travel_cat), \"catagory\"] = \"travel\"\n",
    "test.loc[test.catagory.isin(third_cat), \"catagory\"] = \"third_party\"\n",
    "test.loc[test.catagory.isin(retail_cat), \"catagory\"] = \"retail\"\n",
    "test.loc[~test.catagory.isin(sum_list), \"catagory\"] = \"other\"\n",
    "test.catagory.unique()\n"
   ]
  },
  {
   "cell_type": "code",
   "execution_count": 89,
   "metadata": {},
   "outputs": [],
   "source": [
    "test.date = test.date.astype(\"datetime64\")"
   ]
  },
  {
   "cell_type": "code",
   "execution_count": 92,
   "metadata": {},
   "outputs": [],
   "source": [
    "test = test.set_index(\"date\")"
   ]
  },
  {
   "cell_type": "code",
   "execution_count": 109,
   "metadata": {},
   "outputs": [],
   "source": [
    "test.index = test.index.strftime(\"%Y-%m\")"
   ]
  },
  {
   "cell_type": "code",
   "execution_count": 115,
   "metadata": {},
   "outputs": [
    {
     "data": {
      "text/plain": [
       "date\n",
       "2016-11             FRAIS FIXES\n",
       "2016-12        FR TENUE DE CPTE\n",
       "2016-12             FRAIS FIXES\n",
       "2016-12      INTERETS DECOUVERT\n",
       "2016-12             FRAIS FIXES\n",
       "                   ...         \n",
       "2022-03    COMPTE DIVERS PAYPAL\n",
       "2022-03        VIREMENT INTERAC\n",
       "2022-03       MOBILE VIREMENTMC\n",
       "2022-03    COMPTE DIVERS PAYPAL\n",
       "2022-04        VIREMENT INTERAC\n",
       "Name: description, Length: 1149, dtype: object"
      ]
     },
     "execution_count": 115,
     "metadata": {},
     "output_type": "execute_result"
    }
   ],
   "source": [
    "test.pop(\"description\")"
   ]
  },
  {
   "cell_type": "code",
   "execution_count": 144,
   "metadata": {},
   "outputs": [
    {
     "data": {
      "text/html": [
       "<div>\n",
       "<style scoped>\n",
       "    .dataframe tbody tr th:only-of-type {\n",
       "        vertical-align: middle;\n",
       "    }\n",
       "\n",
       "    .dataframe tbody tr th {\n",
       "        vertical-align: top;\n",
       "    }\n",
       "\n",
       "    .dataframe thead th {\n",
       "        text-align: right;\n",
       "    }\n",
       "</style>\n",
       "<table border=\"1\" class=\"dataframe\">\n",
       "  <thead>\n",
       "    <tr style=\"text-align: right;\">\n",
       "      <th></th>\n",
       "      <th>total</th>\n",
       "    </tr>\n",
       "    <tr>\n",
       "      <th>date</th>\n",
       "      <th></th>\n",
       "    </tr>\n",
       "  </thead>\n",
       "  <tbody>\n",
       "    <tr>\n",
       "      <th>2016-11</th>\n",
       "      <td>0.44</td>\n",
       "    </tr>\n",
       "    <tr>\n",
       "      <th>2016-12</th>\n",
       "      <td>8.06</td>\n",
       "    </tr>\n",
       "    <tr>\n",
       "      <th>2017-02</th>\n",
       "      <td>456.62</td>\n",
       "    </tr>\n",
       "    <tr>\n",
       "      <th>2017-03</th>\n",
       "      <td>600.55</td>\n",
       "    </tr>\n",
       "    <tr>\n",
       "      <th>2017-04</th>\n",
       "      <td>318.70</td>\n",
       "    </tr>\n",
       "    <tr>\n",
       "      <th>...</th>\n",
       "      <td>...</td>\n",
       "    </tr>\n",
       "    <tr>\n",
       "      <th>2021-12</th>\n",
       "      <td>1433.64</td>\n",
       "    </tr>\n",
       "    <tr>\n",
       "      <th>2022-01</th>\n",
       "      <td>5717.36</td>\n",
       "    </tr>\n",
       "    <tr>\n",
       "      <th>2022-02</th>\n",
       "      <td>352.43</td>\n",
       "    </tr>\n",
       "    <tr>\n",
       "      <th>2022-03</th>\n",
       "      <td>3295.92</td>\n",
       "    </tr>\n",
       "    <tr>\n",
       "      <th>2022-04</th>\n",
       "      <td>1500.00</td>\n",
       "    </tr>\n",
       "  </tbody>\n",
       "</table>\n",
       "<p>65 rows × 1 columns</p>\n",
       "</div>"
      ],
      "text/plain": [
       "           total\n",
       "date            \n",
       "2016-11     0.44\n",
       "2016-12     8.06\n",
       "2017-02   456.62\n",
       "2017-03   600.55\n",
       "2017-04   318.70\n",
       "...          ...\n",
       "2021-12  1433.64\n",
       "2022-01  5717.36\n",
       "2022-02   352.43\n",
       "2022-03  3295.92\n",
       "2022-04  1500.00\n",
       "\n",
       "[65 rows x 1 columns]"
      ]
     },
     "execution_count": 144,
     "metadata": {},
     "output_type": "execute_result"
    }
   ],
   "source": [
    "total_per_catagory = test.groupby([\"date\", \"catagory\"]).sum().reset_index().set_index('date')\n",
    "total = total_per_catagory.groupby(\"date\").sum()\n",
    "total.columns = [\"total\"]"
   ]
  },
  {
   "cell_type": "code",
   "execution_count": 155,
   "metadata": {},
   "outputs": [],
   "source": [
    "payments = pd.merge(total_per_catagory, total, on=\"date\", how=\"left\")\n",
    "payments[\"percentage\"] = payments.charge/payments.total\n",
    "payments = payments.drop([\"charge\", \"total\"], axis = 1)"
   ]
  },
  {
   "cell_type": "code",
   "execution_count": 159,
   "metadata": {},
   "outputs": [],
   "source": [
    "#fill in empty dates\n",
    "date_df = pd.DataFrame(payments.index.unique(), columns=[\"date\"])\n",
    "date_df\n",
    "catagory_df = pd.DataFrame(payments.catagory.unique(), columns = [\"catagory\"])\n",
    "final_df = date_df.merge(catagory_df, how = \"cross\").merge(payments, how = \"left\", on = [\"date\", \"catagory\"]).fillna(0.0)"
   ]
  },
  {
   "cell_type": "code",
   "execution_count": 164,
   "metadata": {},
   "outputs": [],
   "source": [
    "final_df.date = final_df.date.astype(\"datetime64\")\n",
    "final_df.set_index(\"date\", inplace=True)\n"
   ]
  },
  {
   "cell_type": "code",
   "execution_count": 165,
   "metadata": {},
   "outputs": [
    {
     "data": {
      "text/html": [
       "<div>\n",
       "<style scoped>\n",
       "    .dataframe tbody tr th:only-of-type {\n",
       "        vertical-align: middle;\n",
       "    }\n",
       "\n",
       "    .dataframe tbody tr th {\n",
       "        vertical-align: top;\n",
       "    }\n",
       "\n",
       "    .dataframe thead th {\n",
       "        text-align: right;\n",
       "    }\n",
       "</style>\n",
       "<table border=\"1\" class=\"dataframe\">\n",
       "  <thead>\n",
       "    <tr style=\"text-align: right;\">\n",
       "      <th></th>\n",
       "      <th>catagory</th>\n",
       "      <th>percentage</th>\n",
       "    </tr>\n",
       "    <tr>\n",
       "      <th>date</th>\n",
       "      <th></th>\n",
       "      <th></th>\n",
       "    </tr>\n",
       "  </thead>\n",
       "  <tbody>\n",
       "    <tr>\n",
       "      <th>2016-11-01</th>\n",
       "      <td>bills</td>\n",
       "      <td>1.0</td>\n",
       "    </tr>\n",
       "    <tr>\n",
       "      <th>2016-11-01</th>\n",
       "      <td>food</td>\n",
       "      <td>0.0</td>\n",
       "    </tr>\n",
       "    <tr>\n",
       "      <th>2016-11-01</th>\n",
       "      <td>travel</td>\n",
       "      <td>0.0</td>\n",
       "    </tr>\n",
       "    <tr>\n",
       "      <th>2016-11-01</th>\n",
       "      <td>other</td>\n",
       "      <td>0.0</td>\n",
       "    </tr>\n",
       "    <tr>\n",
       "      <th>2016-11-01</th>\n",
       "      <td>retail</td>\n",
       "      <td>0.0</td>\n",
       "    </tr>\n",
       "    <tr>\n",
       "      <th>...</th>\n",
       "      <td>...</td>\n",
       "      <td>...</td>\n",
       "    </tr>\n",
       "    <tr>\n",
       "      <th>2022-04-01</th>\n",
       "      <td>food</td>\n",
       "      <td>0.0</td>\n",
       "    </tr>\n",
       "    <tr>\n",
       "      <th>2022-04-01</th>\n",
       "      <td>travel</td>\n",
       "      <td>0.0</td>\n",
       "    </tr>\n",
       "    <tr>\n",
       "      <th>2022-04-01</th>\n",
       "      <td>other</td>\n",
       "      <td>0.0</td>\n",
       "    </tr>\n",
       "    <tr>\n",
       "      <th>2022-04-01</th>\n",
       "      <td>retail</td>\n",
       "      <td>0.0</td>\n",
       "    </tr>\n",
       "    <tr>\n",
       "      <th>2022-04-01</th>\n",
       "      <td>third_party</td>\n",
       "      <td>1.0</td>\n",
       "    </tr>\n",
       "  </tbody>\n",
       "</table>\n",
       "<p>390 rows × 2 columns</p>\n",
       "</div>"
      ],
      "text/plain": [
       "               catagory  percentage\n",
       "date                               \n",
       "2016-11-01        bills         1.0\n",
       "2016-11-01         food         0.0\n",
       "2016-11-01       travel         0.0\n",
       "2016-11-01        other         0.0\n",
       "2016-11-01       retail         0.0\n",
       "...                 ...         ...\n",
       "2022-04-01         food         0.0\n",
       "2022-04-01       travel         0.0\n",
       "2022-04-01        other         0.0\n",
       "2022-04-01       retail         0.0\n",
       "2022-04-01  third_party         1.0\n",
       "\n",
       "[390 rows x 2 columns]"
      ]
     },
     "execution_count": 165,
     "metadata": {},
     "output_type": "execute_result"
    }
   ],
   "source": [
    "final_df"
   ]
  },
  {
   "cell_type": "code",
   "execution_count": 251,
   "metadata": {},
   "outputs": [
    {
     "name": "stderr",
     "output_type": "stream",
     "text": [
      "e:\\school\\env_3.9.9\\lib\\site-packages\\statsmodels\\tsa\\base\\tsa_model.py:536: ValueWarning: No frequency information was provided, so inferred frequency MS will be used.\n",
      "  warnings.warn('No frequency information was'\n",
      "e:\\school\\env_3.9.9\\lib\\site-packages\\statsmodels\\tsa\\base\\tsa_model.py:536: ValueWarning: No frequency information was provided, so inferred frequency MS will be used.\n",
      "  warnings.warn('No frequency information was'\n",
      "e:\\school\\env_3.9.9\\lib\\site-packages\\statsmodels\\tsa\\base\\tsa_model.py:536: ValueWarning: No frequency information was provided, so inferred frequency MS will be used.\n",
      "  warnings.warn('No frequency information was'\n",
      "e:\\school\\env_3.9.9\\lib\\site-packages\\statsmodels\\tsa\\statespace\\sarimax.py:966: UserWarning: Non-stationary starting autoregressive parameters found. Using zeros as starting parameters.\n",
      "  warn('Non-stationary starting autoregressive parameters'\n",
      "e:\\school\\env_3.9.9\\lib\\site-packages\\statsmodels\\tsa\\statespace\\sarimax.py:978: UserWarning: Non-invertible starting MA parameters found. Using zeros as starting parameters.\n",
      "  warn('Non-invertible starting MA parameters found.'\n",
      "e:\\school\\env_3.9.9\\lib\\site-packages\\statsmodels\\base\\model.py:604: ConvergenceWarning: Maximum Likelihood optimization failed to converge. Check mle_retvals\n",
      "  warnings.warn(\"Maximum Likelihood optimization failed to \"\n"
     ]
    }
   ],
   "source": [
    "from statsmodels.tsa.arima.model import ARIMA\n",
    "from statsmodels.graphics.tsaplots import plot_acf, plot_pacf\n",
    "from statsmodels.tsa.stattools import adfuller\n",
    "\n",
    "#ARIMA TIME!!!\n",
    "training_data = final_df.loc[final_df.catagory == \"bills\", \"percentage\"][\"2017\":]\n",
    "model = ARIMA(training_data, order=(6,1,4)).fit()"
   ]
  },
  {
   "cell_type": "code",
   "execution_count": 252,
   "metadata": {},
   "outputs": [
    {
     "data": {
      "text/plain": [
       "<AxesSubplot:>"
      ]
     },
     "execution_count": 252,
     "metadata": {},
     "output_type": "execute_result"
    },
    {
     "data": {
      "image/png": "[encoded data removed]",
      "text/plain": [
       "<Figure size 432x288 with 1 Axes>"
      ]
     },
     "metadata": {
      "needs_background": "light"
     },
     "output_type": "display_data"
    }
   ],
   "source": [
    "\n",
    "model.predict(training_data.index.min(), (final_df.index.max() + pd.offsets.DateOffset(years=10))).plot()"
   ]
  },
  {
   "cell_type": "code",
   "execution_count": 209,
   "metadata": {},
   "outputs": [
    {
     "data": {
      "text/plain": [
       "Timestamp('2032-04-01 00:00:00')"
      ]
     },
     "execution_count": 209,
     "metadata": {},
     "output_type": "execute_result"
    }
   ],
   "source": [
    "final_df.index.max() + pd.offsets.DateOffset(years=10)"
   ]
  },
  {
   "cell_type": "code",
   "execution_count": 248,
   "metadata": {},
   "outputs": [
    {
     "name": "stderr",
     "output_type": "stream",
     "text": [
      "e:\\school\\env_3.9.9\\lib\\site-packages\\statsmodels\\graphics\\tsaplots.py:348: FutureWarning: The default method 'yw' can produce PACF values outside of the [-1,1] interval. After 0.13, the default will change tounadjusted Yule-Walker ('ywm'). You can use this method now by setting method='ywm'.\n",
      "  warnings.warn(\n"
     ]
    },
    {
     "ename": "NameError",
     "evalue": "name 'plt' is not defined",
     "output_type": "error",
     "traceback": [
      "\u001b[1;31m---------------------------------------------------------------------------\u001b[0m",
      "\u001b[1;31mNameError\u001b[0m                                 Traceback (most recent call last)",
      "\u001b[1;32m~\\AppData\\Local\\Temp/ipykernel_22996/1964340876.py\u001b[0m in \u001b[0;36m<module>\u001b[1;34m\u001b[0m\n\u001b[0;32m      1\u001b[0m \u001b[0mplot_acf\u001b[0m\u001b[1;33m(\u001b[0m\u001b[0mtraining_data\u001b[0m\u001b[1;33m)\u001b[0m\u001b[1;33m\u001b[0m\u001b[1;33m\u001b[0m\u001b[0m\n\u001b[0;32m      2\u001b[0m \u001b[0mplot_pacf\u001b[0m\u001b[1;33m(\u001b[0m\u001b[0mtraining_data\u001b[0m\u001b[1;33m)\u001b[0m\u001b[1;33m\u001b[0m\u001b[1;33m\u001b[0m\u001b[0m\n\u001b[1;32m----> 3\u001b[1;33m \u001b[0mplt\u001b[0m\u001b[1;33m.\u001b[0m\u001b[0mshow\u001b[0m\u001b[1;33m(\u001b[0m\u001b[1;33m)\u001b[0m\u001b[1;33m\u001b[0m\u001b[1;33m\u001b[0m\u001b[0m\n\u001b[0m",
      "\u001b[1;31mNameError\u001b[0m: name 'plt' is not defined"
     ]
    },
    {
     "data": {
      "image/png": "[encoded data removed]",
      "text/plain": [
       "<Figure size 432x288 with 1 Axes>"
      ]
     },
     "metadata": {
      "needs_background": "light"
     },
     "output_type": "display_data"
    },
    {
     "data": {
      "image/png": "[encoded data removed]",
      "text/plain": [
       "<Figure size 432x288 with 1 Axes>"
      ]
     },
     "metadata": {
      "needs_background": "light"
     },
     "output_type": "display_data"
    }
   ],
   "source": [
    "plot_acf(training_data)\n",
    "plot_pacf(training_data)\n",
    "plt.show()"
   ]
  },
  {
   "cell_type": "code",
   "execution_count": null,
   "metadata": {},
   "outputs": [],
   "source": []
  }
 ],
 "metadata": {
  "interpreter": {
   "hash": "4fc80e3a4c7c4c3482262887deb227350f0dbc7c1c0208f5751e9018cfe22184"
  },
  "kernelspec": {
   "display_name": "Python 3.9.9 64-bit ('env_3.9.9': venv)",
   "language": "python",
   "name": "python3"
  },
  "language_info": {
   "codemirror_mode": {
    "name": "ipython",
    "version": 3
   },
   "file_extension": ".py",
   "mimetype": "text/x-python",
   "name": "python",
   "nbconvert_exporter": "python",
   "pygments_lexer": "ipython3",
   "version": "3.9.12"
  },
  "orig_nbformat": 4
 },
 "nbformat": 4,
 "nbformat_minor": 2
}
