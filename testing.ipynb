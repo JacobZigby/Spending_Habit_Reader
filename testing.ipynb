{
 "cells": [
  {
   "cell_type": "code",
   "execution_count": 1,
   "metadata": {},
   "outputs": [],
   "source": [
    "import pytesseract\n",
    "from pdf2image import convert_from_path\n",
    "from PIL import Image\n",
    "import os\n",
    "import pandas as pd\n",
    "from statsmodels.tsa.arima.model import ARIMA\n",
    "from statsmodels.graphics.tsaplots import plot_acf, plot_pacf\n",
    "from statsmodels.tsa.stattools import adfuller\n",
    "import pickle"
   ]
  },
  {
   "cell_type": "code",
   "execution_count": null,
   "metadata": {},
   "outputs": [],
   "source": [
    "temp1 = convert_from_path(\"data/unprocessed/debit/2016-11-01_Statement.pdf\")[1]\n",
    "config = \"--psm 12\" #working numbers 6, 11, 12\n",
    "print(pytesseract.image_to_string(temp1,config=config))"
   ]
  },
  {
   "cell_type": "code",
   "execution_count": null,
   "metadata": {},
   "outputs": [],
   "source": [
    "temp1 = convert_from_path(\"data/unprocessed/debit/2017-01-01_Statement.pdf\")[1]\n",
    "config = \"--psm 11\" #working numbers 6, 11, 12\n",
    "string_temp = pytesseract.image_to_string(temp1,config=config)\n",
    "print(string_temp.split(\"\\nDate\\n\\nDescription\\n\\nRetraits ($)\\n\\nDépots ($)\\n\\nSoldes ($)\")[1].split(\"Total\")[0].split(\"\\n\\n\")[4:])"
   ]
  },
  {
   "cell_type": "code",
   "execution_count": null,
   "metadata": {},
   "outputs": [],
   "source": [
    "temp1"
   ]
  },
  {
   "cell_type": "code",
   "execution_count": null,
   "metadata": {},
   "outputs": [],
   "source": [
    "print(pytesseract.image_to_string(temp1))"
   ]
  },
  {
   "cell_type": "code",
   "execution_count": null,
   "metadata": {},
   "outputs": [],
   "source": [
    "Image.open(temp1)"
   ]
  },
  {
   "cell_type": "markdown",
   "metadata": {},
   "source": [
    "Attempt 2"
   ]
  },
  {
   "cell_type": "code",
   "execution_count": null,
   "metadata": {},
   "outputs": [],
   "source": [
    "#Turn all pdfs into a jpeg image\n",
    "print(os.listdir(\"data/unprocessed/debit\"))\n"
   ]
  },
  {
   "cell_type": "code",
   "execution_count": null,
   "metadata": {},
   "outputs": [],
   "source": [
    "image_test = convert_from_path(\"data/unprocessed/debit/2016-11-01_Statement.pdf\")[1]\n",
    "image_test.size"
   ]
  },
  {
   "cell_type": "code",
   "execution_count": null,
   "metadata": {},
   "outputs": [],
   "source": [
    "#image_test2 = image_test.crop((325,400,1650,2200))\n",
    "image_test2 = image_test.crop((325,397,1650,424))\n",
    "config = \"--psm 12 --oem 1\"\n",
    "string_temp = pytesseract.image_to_string(image_test2, config=config)\n",
    "print(string_temp)"
   ]
  },
  {
   "cell_type": "code",
   "execution_count": null,
   "metadata": {},
   "outputs": [],
   "source": [
    "image_test2"
   ]
  },
  {
   "cell_type": "code",
   "execution_count": null,
   "metadata": {},
   "outputs": [],
   "source": [
    "#image_test2 = image_test.crop((325,400,1650,2200))\n",
    "image_test3 = image_test.crop((325,430,1650,457))\n",
    "config = \"--psm 7 --oem 1\"\n",
    "string_temp = pytesseract.image_to_string(image_test3, config=config)\n",
    "print(string_temp)"
   ]
  },
  {
   "cell_type": "code",
   "execution_count": null,
   "metadata": {},
   "outputs": [],
   "source": [
    "image_test3\n"
   ]
  },
  {
   "cell_type": "code",
   "execution_count": null,
   "metadata": {},
   "outputs": [],
   "source": [
    "image_test4 = image_test.crop((325,463,1650,490))\n",
    "config = \"--psm 7 --oem 1\"\n",
    "string_temp = pytesseract.image_to_string(image_test4, config=config)\n",
    "print(string_temp)"
   ]
  },
  {
   "cell_type": "code",
   "execution_count": null,
   "metadata": {},
   "outputs": [],
   "source": [
    "image_test4"
   ]
  },
  {
   "cell_type": "code",
   "execution_count": null,
   "metadata": {},
   "outputs": [],
   "source": [
    "image_test5 = image_test.crop((325,490+6,1650,490+6+27))\n",
    "config = \"--psm 12 --oem 1\"\n",
    "string_temp = pytesseract.image_to_string(image_test5, config=config)\n",
    "string_temp"
   ]
  },
  {
   "cell_type": "code",
   "execution_count": null,
   "metadata": {},
   "outputs": [],
   "source": [
    "image_test5"
   ]
  },
  {
   "cell_type": "code",
   "execution_count": null,
   "metadata": {},
   "outputs": [],
   "source": [
    "string_temp.rstrip(\"\\n\")"
   ]
  },
  {
   "cell_type": "markdown",
   "metadata": {},
   "source": [
    "Testing for cleaning"
   ]
  },
  {
   "cell_type": "code",
   "execution_count": 12,
   "metadata": {},
   "outputs": [],
   "source": [
    "import pandas as pd\n",
    "temp = pd.read_csv('data/processed/debit/2021-02-01.csv')\n",
    "temp_fileter = temp['date'].str.contains(r\"[0-3][0-9]\\s*[A-Z]{3}\")"
   ]
  },
  {
   "cell_type": "code",
   "execution_count": 13,
   "metadata": {},
   "outputs": [
    {
     "data": {
      "text/html": [
       "<div>\n",
       "<style scoped>\n",
       "    .dataframe tbody tr th:only-of-type {\n",
       "        vertical-align: middle;\n",
       "    }\n",
       "\n",
       "    .dataframe tbody tr th {\n",
       "        vertical-align: top;\n",
       "    }\n",
       "\n",
       "    .dataframe thead th {\n",
       "        text-align: right;\n",
       "    }\n",
       "</style>\n",
       "<table border=\"1\" class=\"dataframe\">\n",
       "  <thead>\n",
       "    <tr style=\"text-align: right;\">\n",
       "      <th></th>\n",
       "      <th>date</th>\n",
       "      <th>description</th>\n",
       "      <th>charge</th>\n",
       "      <th>total</th>\n",
       "    </tr>\n",
       "  </thead>\n",
       "  <tbody>\n",
       "  </tbody>\n",
       "</table>\n",
       "</div>"
      ],
      "text/plain": [
       "Empty DataFrame\n",
       "Columns: [date, description, charge, total]\n",
       "Index: []"
      ]
     },
     "execution_count": 13,
     "metadata": {},
     "output_type": "execute_result"
    }
   ],
   "source": [
    "temp[temp_fileter]"
   ]
  },
  {
   "cell_type": "code",
   "execution_count": null,
   "metadata": {},
   "outputs": [],
   "source": [
    "import pandas as pd\n",
    "#testing the concatination of csvs\n",
    "\"data/processed/debit/2016-12-01.csv\"\n",
    "temp1 = pd.read_csv(\"data/processed/debit/2016-11-01.csv\")\n",
    "temp2 = pd.read_csv(\"data/processed/debit/2016-12-01.csv\")\n",
    "pd.concat([temp1,temp2])"
   ]
  },
  {
   "cell_type": "code",
   "execution_count": 9,
   "metadata": {},
   "outputs": [
    {
     "data": {
      "text/html": [
       "<div>\n",
       "<style scoped>\n",
       "    .dataframe tbody tr th:only-of-type {\n",
       "        vertical-align: middle;\n",
       "    }\n",
       "\n",
       "    .dataframe tbody tr th {\n",
       "        vertical-align: top;\n",
       "    }\n",
       "\n",
       "    .dataframe thead th {\n",
       "        text-align: right;\n",
       "    }\n",
       "</style>\n",
       "<table border=\"1\" class=\"dataframe\">\n",
       "  <thead>\n",
       "    <tr style=\"text-align: right;\">\n",
       "      <th></th>\n",
       "      <th>date</th>\n",
       "      <th>description</th>\n",
       "      <th>charge</th>\n",
       "      <th>total</th>\n",
       "    </tr>\n",
       "  </thead>\n",
       "  <tbody>\n",
       "    <tr>\n",
       "      <th>0</th>\n",
       "      <td>NaT</td>\n",
       "      <td>MOBILE VIRDT IT/PE</td>\n",
       "      <td>334.50</td>\n",
       "      <td>12817.20</td>\n",
       "    </tr>\n",
       "    <tr>\n",
       "      <th>1</th>\n",
       "      <td>NaT</td>\n",
       "      <td>CR. SOLIDARITE GOUV. QUEBEC</td>\n",
       "      <td>161.63</td>\n",
       "      <td>12978.83</td>\n",
       "    </tr>\n",
       "    <tr>\n",
       "      <th>2</th>\n",
       "      <td>NaT</td>\n",
       "      <td>TPS CANADA.</td>\n",
       "      <td>112.75</td>\n",
       "      <td>13091.58</td>\n",
       "    </tr>\n",
       "    <tr>\n",
       "      <th>3</th>\n",
       "      <td>NaT</td>\n",
       "      <td>C/ACHAT 8421868 AU BON SUSHI</td>\n",
       "      <td>21.16</td>\n",
       "      <td>13070.42</td>\n",
       "    </tr>\n",
       "    <tr>\n",
       "      <th>4</th>\n",
       "      <td>NaT</td>\n",
       "      <td>C/ACHAT 8421868 MARCHE J P FONT</td>\n",
       "      <td>46.03</td>\n",
       "      <td>13024.39</td>\n",
       "    </tr>\n",
       "    <tr>\n",
       "      <th>5</th>\n",
       "      <td>NaT</td>\n",
       "      <td>ASSURANCE SUN LIFE</td>\n",
       "      <td>18.68</td>\n",
       "      <td>13005.71</td>\n",
       "    </tr>\n",
       "    <tr>\n",
       "      <th>6</th>\n",
       "      <td>NaT</td>\n",
       "      <td>ASSURANCE SUN LIFE</td>\n",
       "      <td>48.56</td>\n",
       "      <td>12957.15</td>\n",
       "    </tr>\n",
       "    <tr>\n",
       "      <th>7</th>\n",
       "      <td>NaT</td>\n",
       "      <td>C/ACHAT 8421 868 BILLETTERIE LON</td>\n",
       "      <td>19.00</td>\n",
       "      <td>12938.15</td>\n",
       "    </tr>\n",
       "    <tr>\n",
       "      <th>8</th>\n",
       "      <td>NaT</td>\n",
       "      <td>COMPTE DIVERS PAYPAL</td>\n",
       "      <td>39.38</td>\n",
       "      <td>12898.77</td>\n",
       "    </tr>\n",
       "    <tr>\n",
       "      <th>9</th>\n",
       "      <td>NaT</td>\n",
       "      <td>C/ACHAT 8421868 COUCHE-TARD # 1</td>\n",
       "      <td>13.11</td>\n",
       "      <td>12885.66</td>\n",
       "    </tr>\n",
       "    <tr>\n",
       "      <th>10</th>\n",
       "      <td>NaT</td>\n",
       "      <td>COMPTE DIVERS PAYPAL</td>\n",
       "      <td>34.46</td>\n",
       "      <td>12851.20</td>\n",
       "    </tr>\n",
       "    <tr>\n",
       "      <th>11</th>\n",
       "      <td>NaT</td>\n",
       "      <td>COMPTE DIVERS PAYPAL</td>\n",
       "      <td>16.49</td>\n",
       "      <td>12834.71</td>\n",
       "    </tr>\n",
       "    <tr>\n",
       "      <th>12</th>\n",
       "      <td>NaT</td>\n",
       "      <td>MOBILE VIRDT IT/PE</td>\n",
       "      <td>39.00</td>\n",
       "      <td>12795.71</td>\n",
       "    </tr>\n",
       "    <tr>\n",
       "      <th>13</th>\n",
       "      <td>NaT</td>\n",
       "      <td>COMPTE DIVERS PAYPAL</td>\n",
       "      <td>24.71</td>\n",
       "      <td>12771.00</td>\n",
       "    </tr>\n",
       "    <tr>\n",
       "      <th>14</th>\n",
       "      <td>NaT</td>\n",
       "      <td>C/ACHAT 8421868 MAXI #8911</td>\n",
       "      <td>79.90</td>\n",
       "      <td>12691.10</td>\n",
       "    </tr>\n",
       "    <tr>\n",
       "      <th>15</th>\n",
       "      <td>NaT</td>\n",
       "      <td>MOBILE VIRCR IT/PE</td>\n",
       "      <td>39.95</td>\n",
       "      <td>12731.05</td>\n",
       "    </tr>\n",
       "    <tr>\n",
       "      <th>16</th>\n",
       "      <td>NaT</td>\n",
       "      <td>COMPTE DIVERS PAYPAL</td>\n",
       "      <td>2.00</td>\n",
       "      <td>12729.05</td>\n",
       "    </tr>\n",
       "    <tr>\n",
       "      <th>17</th>\n",
       "      <td>NaT</td>\n",
       "      <td>MOBILE VIRDT IT/PE</td>\n",
       "      <td>15.00</td>\n",
       "      <td>12714.05</td>\n",
       "    </tr>\n",
       "    <tr>\n",
       "      <th>18</th>\n",
       "      <td>NaT</td>\n",
       "      <td>MOBILE VIRDT IT/PE</td>\n",
       "      <td>23.50</td>\n",
       "      <td>12690.55</td>\n",
       "    </tr>\n",
       "    <tr>\n",
       "      <th>19</th>\n",
       "      <td>NaT</td>\n",
       "      <td>C/ACHAT 8421868 COUCHETARD #431</td>\n",
       "      <td>7.45</td>\n",
       "      <td>12683.10</td>\n",
       "    </tr>\n",
       "    <tr>\n",
       "      <th>20</th>\n",
       "      <td>NaT</td>\n",
       "      <td>MOBILE PAIEM/FAC</td>\n",
       "      <td>212.54</td>\n",
       "      <td>12470.56</td>\n",
       "    </tr>\n",
       "    <tr>\n",
       "      <th>21</th>\n",
       "      <td>NaT</td>\n",
       "      <td>MOBILE PAIEM/FAC</td>\n",
       "      <td>98.01</td>\n",
       "      <td>12372.55</td>\n",
       "    </tr>\n",
       "    <tr>\n",
       "      <th>22</th>\n",
       "      <td>NaT</td>\n",
       "      <td>MOBILE PAIEM/FAC</td>\n",
       "      <td>68.31</td>\n",
       "      <td>12304.24</td>\n",
       "    </tr>\n",
       "    <tr>\n",
       "      <th>23</th>\n",
       "      <td>NaT</td>\n",
       "      <td>COMPTE DIVERS PAYPAL</td>\n",
       "      <td>20.63</td>\n",
       "      <td>12283.61</td>\n",
       "    </tr>\n",
       "    <tr>\n",
       "      <th>24</th>\n",
       "      <td>NaT</td>\n",
       "      <td>C/ACHAT 8421868 COUCHETARD #431</td>\n",
       "      <td>8.95</td>\n",
       "      <td>12274.66</td>\n",
       "    </tr>\n",
       "    <tr>\n",
       "      <th>25</th>\n",
       "      <td>NaT</td>\n",
       "      <td>PAIEMENT FEDERAL CANADA</td>\n",
       "      <td>900.00</td>\n",
       "      <td>13174.66</td>\n",
       "    </tr>\n",
       "    <tr>\n",
       "      <th>26</th>\n",
       "      <td>NaT</td>\n",
       "      <td>PAIEMENT FEDERAL CANADA</td>\n",
       "      <td>900.00</td>\n",
       "      <td>14074.66</td>\n",
       "    </tr>\n",
       "  </tbody>\n",
       "</table>\n",
       "</div>"
      ],
      "text/plain": [
       "   date                       description  charge     total\n",
       "0   NaT                MOBILE VIRDT IT/PE  334.50  12817.20\n",
       "1   NaT       CR. SOLIDARITE GOUV. QUEBEC  161.63  12978.83\n",
       "2   NaT                       TPS CANADA.  112.75  13091.58\n",
       "3   NaT      C/ACHAT 8421868 AU BON SUSHI   21.16  13070.42\n",
       "4   NaT   C/ACHAT 8421868 MARCHE J P FONT   46.03  13024.39\n",
       "5   NaT                ASSURANCE SUN LIFE   18.68  13005.71\n",
       "6   NaT                ASSURANCE SUN LIFE   48.56  12957.15\n",
       "7   NaT  C/ACHAT 8421 868 BILLETTERIE LON   19.00  12938.15\n",
       "8   NaT              COMPTE DIVERS PAYPAL   39.38  12898.77\n",
       "9   NaT   C/ACHAT 8421868 COUCHE-TARD # 1   13.11  12885.66\n",
       "10  NaT              COMPTE DIVERS PAYPAL   34.46  12851.20\n",
       "11  NaT              COMPTE DIVERS PAYPAL   16.49  12834.71\n",
       "12  NaT                MOBILE VIRDT IT/PE   39.00  12795.71\n",
       "13  NaT              COMPTE DIVERS PAYPAL   24.71  12771.00\n",
       "14  NaT        C/ACHAT 8421868 MAXI #8911   79.90  12691.10\n",
       "15  NaT                MOBILE VIRCR IT/PE   39.95  12731.05\n",
       "16  NaT              COMPTE DIVERS PAYPAL    2.00  12729.05\n",
       "17  NaT                MOBILE VIRDT IT/PE   15.00  12714.05\n",
       "18  NaT                MOBILE VIRDT IT/PE   23.50  12690.55\n",
       "19  NaT   C/ACHAT 8421868 COUCHETARD #431    7.45  12683.10\n",
       "20  NaT                  MOBILE PAIEM/FAC  212.54  12470.56\n",
       "21  NaT                  MOBILE PAIEM/FAC   98.01  12372.55\n",
       "22  NaT                  MOBILE PAIEM/FAC   68.31  12304.24\n",
       "23  NaT              COMPTE DIVERS PAYPAL   20.63  12283.61\n",
       "24  NaT   C/ACHAT 8421868 COUCHETARD #431    8.95  12274.66\n",
       "25  NaT           PAIEMENT FEDERAL CANADA  900.00  13174.66\n",
       "26  NaT           PAIEMENT FEDERAL CANADA  900.00  14074.66"
      ]
     },
     "execution_count": 9,
     "metadata": {},
     "output_type": "execute_result"
    }
   ],
   "source": [
    "#create a year column for the data\n",
    "path = \"data/processed/debit/\"\n",
    "os.listdir(path)\n",
    "#step one turn the months into proper datetime objects\n",
    "month_to_num = {\"JAN\" : \"01\", \"FEV\" : \"02\", \"MAR\" : \"03\", \"AVR\" : \"04\", \"MAI\" : \"05\", \"JUN\" : \"06\", \"JUI\" : \"07\", \"AOU\" : \"08\", \"SEP\" : \"09\", \"OCT\" : \"10\", \"NOV\" : \"11\", \"DEC\" : \"12\"}\n",
    "\n",
    "\n",
    "#Lets do our testing here\n",
    "testing_file = \"data/processed/debit/2021-02-01.csv\"\n",
    "file_name = testing_file[-14:-4]\n",
    "testing_file = pd.read_csv(testing_file)\n",
    "offset = 0\n",
    "test = pd.to_datetime(file_name[:4] + testing_file['date'].str[-3:].map(month_to_num) + testing_file['date'].str[:2])\n",
    "testing_file[\"date\"] = test\n",
    "if(int(file_name[5:7]) == 1):\n",
    "    mask = testing_file[\"date\"].dt.month == 12\n",
    "    testing_file[\"date\"][mask] -= pd.DateOffset(years = 1)\n",
    "testing_file.to_csv(\"test.csv\",index=False)\n",
    "testing_file\n"
   ]
  },
  {
   "cell_type": "code",
   "execution_count": null,
   "metadata": {},
   "outputs": [],
   "source": [
    "pd.to_datetime(pd.read_csv(\"test.csv\")[\"date\"])"
   ]
  },
  {
   "cell_type": "code",
   "execution_count": 2,
   "metadata": {},
   "outputs": [],
   "source": [
    "#create a function to change the date column into a datetime series\n",
    "MONTH_TO_NUM = {\"JAN\" : \"01\", \"FEV\" : \"02\", \"MAR\" : \"03\", \"AVR\" : \"04\", \"MAI\" : \"05\", \"JUN\" : \"06\", \"JUI\" : \"07\", \"AOU\" : \"08\", \"SEP\" : \"09\", \"OCT\" : \"10\", \"NOV\" : \"11\", \"DEC\" : \"12\"}\n",
    "\n",
    "def create_datetime(df, file_name):\n",
    "    year= file_name[:4]\n",
    "    df[\"date\"] = pd.to_datetime(year + df[\"date\"].str[-3:].map(MONTH_TO_NUM) + df[\"date\"].str[:2])\n",
    "    if(file_name[5:7] == \"01\"):\n",
    "        #mask used to \n",
    "        mask = df[\"date\"].dt.month == 12\n",
    "        df[\"date\"][mask] -= pd.DateOffset(years = 1)\n",
    "    return df"
   ]
  },
  {
   "cell_type": "code",
   "execution_count": null,
   "metadata": {},
   "outputs": [
    {
     "ename": "",
     "evalue": "",
     "output_type": "error",
     "traceback": [
      "\u001b[1;31mThe Kernel crashed while executing code in the the current cell or a previous cell. Please review the code in the cell(s) to identify a possible cause of the failure. Click <a href='https://aka.ms/vscodeJupyterKernelCrash'>here</a> for more info. View Jupyter <a href='command:jupyter.viewOutput'>log</a> for further details."
     ]
    }
   ],
   "source": [
    "#create a year column for the data\n",
    "path = \"data/processed/debit/\"\n",
    "files = os.listdir(path)\n",
    "for file in files:\n",
    "    print(file)\n",
    "    temp = create_datetime(pd.read_csv(path + file),file)\n",
    "    temp.to_csv(path+file, index=False)"
   ]
  },
  {
   "cell_type": "code",
   "execution_count": 3,
   "metadata": {},
   "outputs": [
    {
     "data": {
      "text/plain": [
       "0     4406.57\n",
       "1     4326.10\n",
       "2     4440.10\n",
       "3     4603.85\n",
       "4     4585.17\n",
       "5     4536.61\n",
       "6     4854.68\n",
       "7     5261.23\n",
       "8     5451.23\n",
       "9     5535.82\n",
       "10    5472.88\n",
       "11    5454.50\n",
       "12    5642.50\n",
       "13    5617.92\n",
       "14    5612.45\n",
       "15    5584.00\n",
       "16    3084.00\n",
       "17    2946.01\n",
       "18    2841.00\n",
       "19    1736.39\n",
       "20    2006.39\n",
       "21    2276.39\n",
       "22    2293.39\n",
       "23    2481.39\n",
       "24    2605.99\n",
       "25    2805.99\n",
       "26    2855.99\n",
       "27    3605.99\n",
       "28    2105.99\n",
       "29    2023.77\n",
       "30    2051.03\n",
       "Name: total, dtype: float64"
      ]
     },
     "execution_count": 3,
     "metadata": {},
     "output_type": "execute_result"
    }
   ],
   "source": [
    "pd.read_csv(\"data\\processed\\debit/2022-02-01.csv\")['total'].replace(r\"[^\\d]\",\"\", regex=True)"
   ]
  },
  {
   "cell_type": "markdown",
   "metadata": {},
   "source": [
    "Apply all things from function to backup here"
   ]
  },
  {
   "cell_type": "code",
   "execution_count": 4,
   "metadata": {},
   "outputs": [],
   "source": [
    "#create a year column for the data\n",
    "path = \"data/processed/debit/\"\n",
    "files = os.listdir(path)\n",
    "for file in files:\n",
    "    df = pd.read_csv(path + file)\n",
    "\n",
    "    #change the format of total and charge so we can use it without error later\n",
    "    df[\"total\"] = df[\"total\"].replace(r\"[^\\d]\", \"\", regex=True)\n",
    "    df[\"charge\"] = df[\"charge\"].replace(r\"[^\\d]\", \"\", regex=True)\n",
    "    #turn it into a decimal\n",
    "    df[\"total\"] = df[\"total\"].str[:-2] + \".\" + df[\"total\"].str[-2:]\n",
    "    df[\"charge\"] = df[\"charge\"].str[:-2] + \".\" + df[\"charge\"].str[-2:]\n",
    "    df.to_csv(path + file, index=False)"
   ]
  },
  {
   "cell_type": "code",
   "execution_count": 54,
   "metadata": {},
   "outputs": [
    {
     "data": {
      "text/plain": [
       "'OOOO02o JAN'"
      ]
     },
     "execution_count": 54,
     "metadata": {},
     "output_type": "execute_result"
    }
   ],
   "source": [
    "import re\n",
    "error = \"OOOO02o JAN\"\n",
    "pattern = r\"[^\\s*[A-Z]{3}]\"\n",
    "pattern = r\"^\\D+[^[0-3][0-9]]\"\n",
    "re.sub(pattern, \"\", error)"
   ]
  },
  {
   "cell_type": "code",
   "execution_count": 2,
   "metadata": {},
   "outputs": [],
   "source": [
    "import pandas as pd\n",
    "#here we will do some catagorizing of the descriptions on the data and create a make shift catagorizer\n",
    "test = pd.read_csv(\"expenses.csv\").dropna()\n",
    "test.pop(\"total\")\n",
    "test[\"catagory\"] = pd.NA\n",
    "bills = [\n",
    "    \"frais\",\n",
    "    \"fr tenue\",\n",
    "    \"interets decouvert\",\n",
    "    \"ASSURANCE SUN LIFE\",\n",
    "    \"TRANS. EXCEDENT.\"\n",
    "]\n",
    "mobile_payments = [\n",
    "    \"mobile\",\n",
    "    \"internet paiem\"\n",
    "]\n",
    "transport = [\n",
    "    \"billetterie lon\",\n",
    "    \"billeterie du\",\n",
    "    \"stm\",\n",
    "    \"BILLETTERIE TER\"\n",
    "]\n",
    "resturants = [\n",
    "    \"la belle provin\",\n",
    "    \"mcdonald\",\n",
    "    \"krispy kreme\",\n",
    "    \"tim horton\",\n",
    "    \"tims hortons\",\n",
    "    \"cafe gar\",\n",
    "    \"subway\",\n",
    "    \"cantine\",\n",
    "    \"restaurants\",\n",
    "    \"dairy queen\",\n",
    "    \"dunns\",\n",
    "    \"eggsquis\",\n",
    "    \"thai express\",\n",
    "    \"pizzahut\",\n",
    "    \"n g drive in\",\n",
    "    \"pizza pizza\",\n",
    "    \"amir\",\n",
    "    \"frite alors\",\n",
    "    \"au bon sushi\",\n",
    "    \"ROTISSERIE\",\n",
    "    \"boustan\",\n",
    "    \"TUTTI FRUTTI\",\n",
    "    \"benny bbq\",\n",
    "    \"nos thes\",\n",
    "    \"wendys\",\n",
    "    \"thai expr\",\n",
    "    \"buffet\",\n",
    "    \"EAST SIDE MARIO\",\n",
    "    \"kalbi\",\n",
    "    \"a&w\",\n",
    "    \"DISTILLERIE\",\n",
    "    \"KINTON RAMEN\",\n",
    "    \"resto\",\n",
    "    \"harvey\",\n",
    "    \"cafe\",\n",
    "    \"LA DIPERIE\"\n",
    "]\n",
    "groceries = [\n",
    "    \"maxi\",\n",
    "    \"super c\",\n",
    "    \"iga extra\",\n",
    "    \"depanneur\",\n",
    "    \"provigo\",\n",
    "    \"ALIMENTS KIM PH\",\n",
    "    \"FRUITERIE 440\",\n",
    "    \"metro\"\n",
    "]\n",
    "gas_station = [\n",
    "    \"petro-canada\",\n",
    "    \"couche-tard\",\n",
    "    \"couchetard\",\n",
    "    \"ULTRAMAR\"\n",
    "]\n",
    "withdraws = [\n",
    "    \"retrait\"\n",
    "]\n",
    "food = [\n",
    "    \"LE TERROIR DE D\"\n",
    "]\n",
    "office_ware = [\n",
    "    \"bureau en gros\",\n",
    "    \"BKSTR CHAMPLAIN\"\n",
    "]\n",
    "hard_ware = [\n",
    "    \"home depot\",\n",
    "    \"canadian tire\"\n",
    "]\n",
    "home_ware = [\n",
    "    \"economax\"\n",
    "]\n",
    "electronics = [\n",
    "    \"best buy\",\n",
    "    \"canada computer\",\n",
    "    \"eb games\",\n",
    "    \"superclub video\"\n",
    "]\n",
    "retail = [\n",
    "    \"wal-mart\",\n",
    "    \"tigre geant\",\n",
    "    \"dollarama\",\n",
    "    \"animal expert\",\n",
    "    \"party expert\",\n",
    "    \"tristan\",\n",
    "    \"marche\",\n",
    "    \"IMAGINUS CANADA\", # posters\n",
    "    \"jeans factory\",\n",
    "    \"game keeper\", #board game store,\n",
    "    \"aldo\",\n",
    "    \"yellow\",\n",
    "    \"AUBAINERIE\",\n",
    "    \"CLAIR DE LUNE\",\n",
    "    \"lush\",\n",
    "    \"giant tiger\",\n",
    "    \"bongia\",\n",
    "    \"sephora\",\n",
    "    \"FERNANDE FLEURI\",\n",
    "    \"SQDC\",\n",
    "    \"SAQ\",\n",
    "    \"ardene\",\n",
    "    \"MEGA VENTE\",\n",
    "    \"LA VIE EN ROSE\",\n",
    "    \"h&m\"\n",
    "]\n",
    "medical = [\n",
    "    \"pharmaprix\",\n",
    "    \"jean coutu\",\n",
    "    \"CLIN VISUELLE\",\n",
    "    \"pharm\"\n",
    "]\n",
    "paypal = [\n",
    "    \"paypal\"\n",
    "]\n",
    "interact_transfers = [ \n",
    "    \"interac\"\n",
    "]\n",
    "investments = [ \n",
    "    \"invest\"\n",
    "]\n",
    "activity = [ \n",
    "    \"BREAKOUT\",\n",
    "    \"DOMAINE DU SKI\",\n",
    "    \"MOUNTAIN EQUIPM\"\n",
    "]\n",
    "cheque = [\n",
    "    \"cheque\"\n",
    "]\n",
    "#mask creations\n",
    "test.loc[test[\"description\"].str.contains(\"|\".join(bills), case=False), \"catagory\"] = \"bills\" # bills\n",
    "test.loc[test[\"description\"].str.contains(\"|\".join(mobile_payments), case=False),'catagory'] = \"mobile_payments\" #bills\n",
    "test.loc[test[\"description\"].str.contains(\"|\".join(transport), case=False),'catagory'] = \"transport\" #bills\n",
    "test.loc[test[\"description\"].str.contains(\"|\".join(resturants), case=False),'catagory'] = \"resturants\" #food\n",
    "test.loc[test[\"description\"].str.contains(\"|\".join(groceries), case=False),'catagory'] = \"groceries\" #food\n",
    "test.loc[test[\"description\"].str.contains(\"|\".join(gas_station), case=False),'catagory'] = \"gas_station\" #bills/leisure\n",
    "test.loc[test[\"description\"].str.contains(\"|\".join(withdraws), case=False),'catagory'] = \"withdraws\" #other\n",
    "test.loc[test[\"description\"].str.contains(\"|\".join(food), case=False),'catagory'] = \"food\" # food/retail\n",
    "test.loc[test[\"description\"].str.contains(\"|\".join(office_ware), case=False),'catagory'] = \"office_ware\" #retail\n",
    "test.loc[test[\"description\"].str.contains(\"|\".join(hard_ware), case=False),'catagory'] = \"hard_ware\" #retail\n",
    "test.loc[test[\"description\"].str.contains(\"|\".join(home_ware), case=False),'catagory'] = \"home_ware\" #retail\n",
    "test.loc[test[\"description\"].str.contains(\"|\".join(electronics), case=False),'catagory'] = \"electronics\" #retail\n",
    "test.loc[test[\"description\"].str.contains(\"|\".join(retail), case=False),'catagory'] = \"retail\" #retail\n",
    "test.loc[test[\"description\"].str.contains(\"|\".join(medical), case=False),'catagory'] = \"medical\" #bills\n",
    "test.loc[test[\"description\"].str.contains(\"|\".join(paypal), case=False),'catagory'] = \"paypal\" #paypal\n",
    "test.loc[test[\"description\"].str.contains(\"|\".join(interact_transfers), case=False),'catagory'] = \"interact\" #interact\n",
    "test.loc[test[\"description\"].str.contains(\"|\".join(investments), case=False),'catagory'] = \"investment\" #investment\n",
    "test.loc[test[\"description\"].str.contains(\"|\".join(activity), case=False),'catagory'] = \"activity\" #luxury\n",
    "test.loc[test[\"description\"].str.contains(\"|\".join(cheque), case=False),'catagory'] = \"cheque\" #cheques\n",
    "test.loc[test.catagory.isna(), 'catagory'] = \"other\" #for uncatagorized\n",
    "\n",
    "#make two cats [nec and lux]"
   ]
  },
  {
   "cell_type": "code",
   "execution_count": 3,
   "metadata": {},
   "outputs": [
    {
     "data": {
      "text/html": [
       "<div>\n",
       "<style scoped>\n",
       "    .dataframe tbody tr th:only-of-type {\n",
       "        vertical-align: middle;\n",
       "    }\n",
       "\n",
       "    .dataframe tbody tr th {\n",
       "        vertical-align: top;\n",
       "    }\n",
       "\n",
       "    .dataframe thead th {\n",
       "        text-align: right;\n",
       "    }\n",
       "</style>\n",
       "<table border=\"1\" class=\"dataframe\">\n",
       "  <thead>\n",
       "    <tr style=\"text-align: right;\">\n",
       "      <th></th>\n",
       "      <th>date</th>\n",
       "      <th>description</th>\n",
       "      <th>charge</th>\n",
       "      <th>catagory</th>\n",
       "    </tr>\n",
       "  </thead>\n",
       "  <tbody>\n",
       "    <tr>\n",
       "      <th>0</th>\n",
       "      <td>2016-11-01</td>\n",
       "      <td>FRAIS FIXES</td>\n",
       "      <td>0.44</td>\n",
       "      <td>bills</td>\n",
       "    </tr>\n",
       "    <tr>\n",
       "      <th>1</th>\n",
       "      <td>2016-12-01</td>\n",
       "      <td>FR TENUE DE CPTE</td>\n",
       "      <td>2.50</td>\n",
       "      <td>bills</td>\n",
       "    </tr>\n",
       "    <tr>\n",
       "      <th>2</th>\n",
       "      <td>2016-12-01</td>\n",
       "      <td>FRAIS FIXES</td>\n",
       "      <td>2.75</td>\n",
       "      <td>bills</td>\n",
       "    </tr>\n",
       "    <tr>\n",
       "      <th>3</th>\n",
       "      <td>2016-12-01</td>\n",
       "      <td>INTERETS DECOUVERT</td>\n",
       "      <td>0.05</td>\n",
       "      <td>bills</td>\n",
       "    </tr>\n",
       "    <tr>\n",
       "      <th>4</th>\n",
       "      <td>2016-12-30</td>\n",
       "      <td>FRAIS FIXES</td>\n",
       "      <td>2.75</td>\n",
       "      <td>bills</td>\n",
       "    </tr>\n",
       "    <tr>\n",
       "      <th>...</th>\n",
       "      <td>...</td>\n",
       "      <td>...</td>\n",
       "      <td>...</td>\n",
       "      <td>...</td>\n",
       "    </tr>\n",
       "    <tr>\n",
       "      <th>1145</th>\n",
       "      <td>2022-03-18</td>\n",
       "      <td>COMPTE DIVERS PAYPAL</td>\n",
       "      <td>24.58</td>\n",
       "      <td>paypal</td>\n",
       "    </tr>\n",
       "    <tr>\n",
       "      <th>1146</th>\n",
       "      <td>2022-03-22</td>\n",
       "      <td>VIREMENT INTERAC</td>\n",
       "      <td>96.14</td>\n",
       "      <td>interact</td>\n",
       "    </tr>\n",
       "    <tr>\n",
       "      <th>1147</th>\n",
       "      <td>2022-03-28</td>\n",
       "      <td>MOBILE VIREMENTMC</td>\n",
       "      <td>728.92</td>\n",
       "      <td>mobile_payments</td>\n",
       "    </tr>\n",
       "    <tr>\n",
       "      <th>1148</th>\n",
       "      <td>2022-03-29</td>\n",
       "      <td>COMPTE DIVERS PAYPAL</td>\n",
       "      <td>44.43</td>\n",
       "      <td>paypal</td>\n",
       "    </tr>\n",
       "    <tr>\n",
       "      <th>1149</th>\n",
       "      <td>2022-04-01</td>\n",
       "      <td>VIREMENT INTERAC</td>\n",
       "      <td>1500.00</td>\n",
       "      <td>interact</td>\n",
       "    </tr>\n",
       "  </tbody>\n",
       "</table>\n",
       "<p>1149 rows × 4 columns</p>\n",
       "</div>"
      ],
      "text/plain": [
       "            date           description   charge         catagory\n",
       "0     2016-11-01           FRAIS FIXES     0.44            bills\n",
       "1     2016-12-01      FR TENUE DE CPTE     2.50            bills\n",
       "2     2016-12-01           FRAIS FIXES     2.75            bills\n",
       "3     2016-12-01    INTERETS DECOUVERT     0.05            bills\n",
       "4     2016-12-30           FRAIS FIXES     2.75            bills\n",
       "...          ...                   ...      ...              ...\n",
       "1145  2022-03-18  COMPTE DIVERS PAYPAL    24.58           paypal\n",
       "1146  2022-03-22      VIREMENT INTERAC    96.14         interact\n",
       "1147  2022-03-28     MOBILE VIREMENTMC   728.92  mobile_payments\n",
       "1148  2022-03-29  COMPTE DIVERS PAYPAL    44.43           paypal\n",
       "1149  2022-04-01      VIREMENT INTERAC  1500.00         interact\n",
       "\n",
       "[1149 rows x 4 columns]"
      ]
     },
     "execution_count": 3,
     "metadata": {},
     "output_type": "execute_result"
    }
   ],
   "source": [
    "#test[test[\"description\"].str.contains('LE BISTROM', case=False)]\n",
    "test"
   ]
  },
  {
   "cell_type": "code",
   "execution_count": 4,
   "metadata": {},
   "outputs": [
    {
     "data": {
      "text/plain": [
       "'mobile|internet paiem'"
      ]
     },
     "execution_count": 4,
     "metadata": {},
     "output_type": "execute_result"
    }
   ],
   "source": [
    "\"|\".join(mobile_payments)"
   ]
  },
  {
   "cell_type": "code",
   "execution_count": 5,
   "metadata": {},
   "outputs": [
    {
     "data": {
      "text/plain": [
       "array(['bills', 'travel', 'food', 'other', 'retail', 'third_party'],\n",
       "      dtype=object)"
      ]
     },
     "execution_count": 5,
     "metadata": {},
     "output_type": "execute_result"
    }
   ],
   "source": [
    "#for the sake of a prototpye we will only keep three catagories: bills, food, travel, third_party, retail, other\n",
    "bills_cat = [\"bills\", \"mobile_payments\", \"medical\"]\n",
    "food_cat = [\"resturants\", \"groceries\", \"food\"]\n",
    "travel_cat = [\"transport\", \"gas_station\"]\n",
    "third_cat = [\"paypal\", \"interact\"]\n",
    "retail_cat = [\"retail\", \"hard_ware\", \"home_ware\", \"electronics\"]\n",
    "sum_list = [\"bills\", \"food\", \"travel\", \"third_party\", \"retail\"]\n",
    "test.loc[test.catagory.isin(bills_cat), \"catagory\"] = \"bills\"\n",
    "test.loc[test.catagory.isin(food_cat), \"catagory\"] = \"food\"\n",
    "test.loc[test.catagory.isin(travel_cat), \"catagory\"] = \"travel\"\n",
    "test.loc[test.catagory.isin(third_cat), \"catagory\"] = \"third_party\"\n",
    "test.loc[test.catagory.isin(retail_cat), \"catagory\"] = \"retail\"\n",
    "test.loc[~test.catagory.isin(sum_list), \"catagory\"] = \"other\"\n",
    "test.catagory.unique()\n"
   ]
  },
  {
   "cell_type": "code",
   "execution_count": 6,
   "metadata": {},
   "outputs": [],
   "source": [
    "test.date = test.date.astype(\"datetime64\")"
   ]
  },
  {
   "cell_type": "code",
   "execution_count": 7,
   "metadata": {},
   "outputs": [],
   "source": [
    "test = test.set_index(\"date\")"
   ]
  },
  {
   "cell_type": "code",
   "execution_count": 8,
   "metadata": {},
   "outputs": [],
   "source": [
    "test.index = test.index.strftime(\"%Y-%m\")"
   ]
  },
  {
   "cell_type": "code",
   "execution_count": 9,
   "metadata": {},
   "outputs": [
    {
     "data": {
      "text/plain": [
       "date\n",
       "2016-11             FRAIS FIXES\n",
       "2016-12        FR TENUE DE CPTE\n",
       "2016-12             FRAIS FIXES\n",
       "2016-12      INTERETS DECOUVERT\n",
       "2016-12             FRAIS FIXES\n",
       "                   ...         \n",
       "2022-03    COMPTE DIVERS PAYPAL\n",
       "2022-03        VIREMENT INTERAC\n",
       "2022-03       MOBILE VIREMENTMC\n",
       "2022-03    COMPTE DIVERS PAYPAL\n",
       "2022-04        VIREMENT INTERAC\n",
       "Name: description, Length: 1149, dtype: object"
      ]
     },
     "execution_count": 9,
     "metadata": {},
     "output_type": "execute_result"
    }
   ],
   "source": [
    "test.pop(\"description\")"
   ]
  },
  {
   "cell_type": "code",
   "execution_count": 10,
   "metadata": {},
   "outputs": [],
   "source": [
    "total_per_catagory = test.groupby([\"date\", \"catagory\"]).sum().reset_index().set_index('date')\n",
    "total = total_per_catagory.groupby(\"date\").sum()\n",
    "total.columns = [\"total\"]"
   ]
  },
  {
   "cell_type": "code",
   "execution_count": 11,
   "metadata": {},
   "outputs": [],
   "source": [
    "payments = pd.merge(total_per_catagory, total, on=\"date\", how=\"left\")\n",
    "payments[\"percentage\"] = payments.charge/payments.total\n",
    "payments = payments.drop([\"charge\", \"total\"], axis = 1)"
   ]
  },
  {
   "cell_type": "code",
   "execution_count": 12,
   "metadata": {},
   "outputs": [],
   "source": [
    "#fill in empty dates\n",
    "date_df = pd.DataFrame(payments.index.unique(), columns=[\"date\"])\n",
    "date_df\n",
    "catagory_df = pd.DataFrame(payments.catagory.unique(), columns = [\"catagory\"])\n",
    "final_df = date_df.merge(catagory_df, how = \"cross\").merge(payments, how = \"left\", on = [\"date\", \"catagory\"]).fillna(0.0)"
   ]
  },
  {
   "cell_type": "code",
   "execution_count": 13,
   "metadata": {},
   "outputs": [],
   "source": [
    "final_df.date = final_df.date.astype(\"datetime64\")\n",
    "final_df.set_index(\"date\", inplace=True)\n"
   ]
  },
  {
   "cell_type": "code",
   "execution_count": 14,
   "metadata": {},
   "outputs": [
    {
     "data": {
      "text/html": [
       "<div>\n",
       "<style scoped>\n",
       "    .dataframe tbody tr th:only-of-type {\n",
       "        vertical-align: middle;\n",
       "    }\n",
       "\n",
       "    .dataframe tbody tr th {\n",
       "        vertical-align: top;\n",
       "    }\n",
       "\n",
       "    .dataframe thead th {\n",
       "        text-align: right;\n",
       "    }\n",
       "</style>\n",
       "<table border=\"1\" class=\"dataframe\">\n",
       "  <thead>\n",
       "    <tr style=\"text-align: right;\">\n",
       "      <th></th>\n",
       "      <th>catagory</th>\n",
       "      <th>percentage</th>\n",
       "    </tr>\n",
       "    <tr>\n",
       "      <th>date</th>\n",
       "      <th></th>\n",
       "      <th></th>\n",
       "    </tr>\n",
       "  </thead>\n",
       "  <tbody>\n",
       "    <tr>\n",
       "      <th>2016-11-01</th>\n",
       "      <td>bills</td>\n",
       "      <td>1.0</td>\n",
       "    </tr>\n",
       "    <tr>\n",
       "      <th>2016-11-01</th>\n",
       "      <td>food</td>\n",
       "      <td>0.0</td>\n",
       "    </tr>\n",
       "    <tr>\n",
       "      <th>2016-11-01</th>\n",
       "      <td>travel</td>\n",
       "      <td>0.0</td>\n",
       "    </tr>\n",
       "    <tr>\n",
       "      <th>2016-11-01</th>\n",
       "      <td>other</td>\n",
       "      <td>0.0</td>\n",
       "    </tr>\n",
       "    <tr>\n",
       "      <th>2016-11-01</th>\n",
       "      <td>retail</td>\n",
       "      <td>0.0</td>\n",
       "    </tr>\n",
       "    <tr>\n",
       "      <th>...</th>\n",
       "      <td>...</td>\n",
       "      <td>...</td>\n",
       "    </tr>\n",
       "    <tr>\n",
       "      <th>2022-04-01</th>\n",
       "      <td>food</td>\n",
       "      <td>0.0</td>\n",
       "    </tr>\n",
       "    <tr>\n",
       "      <th>2022-04-01</th>\n",
       "      <td>travel</td>\n",
       "      <td>0.0</td>\n",
       "    </tr>\n",
       "    <tr>\n",
       "      <th>2022-04-01</th>\n",
       "      <td>other</td>\n",
       "      <td>0.0</td>\n",
       "    </tr>\n",
       "    <tr>\n",
       "      <th>2022-04-01</th>\n",
       "      <td>retail</td>\n",
       "      <td>0.0</td>\n",
       "    </tr>\n",
       "    <tr>\n",
       "      <th>2022-04-01</th>\n",
       "      <td>third_party</td>\n",
       "      <td>1.0</td>\n",
       "    </tr>\n",
       "  </tbody>\n",
       "</table>\n",
       "<p>390 rows × 2 columns</p>\n",
       "</div>"
      ],
      "text/plain": [
       "               catagory  percentage\n",
       "date                               \n",
       "2016-11-01        bills         1.0\n",
       "2016-11-01         food         0.0\n",
       "2016-11-01       travel         0.0\n",
       "2016-11-01        other         0.0\n",
       "2016-11-01       retail         0.0\n",
       "...                 ...         ...\n",
       "2022-04-01         food         0.0\n",
       "2022-04-01       travel         0.0\n",
       "2022-04-01        other         0.0\n",
       "2022-04-01       retail         0.0\n",
       "2022-04-01  third_party         1.0\n",
       "\n",
       "[390 rows x 2 columns]"
      ]
     },
     "execution_count": 14,
     "metadata": {},
     "output_type": "execute_result"
    }
   ],
   "source": [
    "final_df"
   ]
  },
  {
   "cell_type": "code",
   "execution_count": 15,
   "metadata": {},
   "outputs": [
    {
     "name": "stderr",
     "output_type": "stream",
     "text": [
      "c:\\Users\\jibz1\\school\\habit_spender_env\\lib\\site-packages\\statsmodels\\tsa\\base\\tsa_model.py:471: ValueWarning: No frequency information was provided, so inferred frequency MS will be used.\n",
      "  self._init_dates(dates, freq)\n",
      "c:\\Users\\jibz1\\school\\habit_spender_env\\lib\\site-packages\\statsmodels\\tsa\\base\\tsa_model.py:471: ValueWarning: No frequency information was provided, so inferred frequency MS will be used.\n",
      "  self._init_dates(dates, freq)\n",
      "c:\\Users\\jibz1\\school\\habit_spender_env\\lib\\site-packages\\statsmodels\\tsa\\base\\tsa_model.py:471: ValueWarning: No frequency information was provided, so inferred frequency MS will be used.\n",
      "  self._init_dates(dates, freq)\n",
      "c:\\Users\\jibz1\\school\\habit_spender_env\\lib\\site-packages\\statsmodels\\tsa\\statespace\\sarimax.py:966: UserWarning: Non-stationary starting autoregressive parameters found. Using zeros as starting parameters.\n",
      "  warn('Non-stationary starting autoregressive parameters'\n",
      "c:\\Users\\jibz1\\school\\habit_spender_env\\lib\\site-packages\\statsmodels\\tsa\\statespace\\sarimax.py:978: UserWarning: Non-invertible starting MA parameters found. Using zeros as starting parameters.\n",
      "  warn('Non-invertible starting MA parameters found.'\n",
      "c:\\Users\\jibz1\\school\\habit_spender_env\\lib\\site-packages\\statsmodels\\base\\model.py:604: ConvergenceWarning: Maximum Likelihood optimization failed to converge. Check mle_retvals\n",
      "  warnings.warn(\"Maximum Likelihood optimization failed to \"\n"
     ]
    }
   ],
   "source": [
    "from statsmodels.tsa.arima.model import ARIMA\n",
    "from statsmodels.graphics.tsaplots import plot_acf, plot_pacf\n",
    "from statsmodels.tsa.stattools import adfuller\n",
    "\n",
    "#ARIMA TIME!!!\n",
    "training_data = final_df.loc[final_df.catagory == \"bills\", \"percentage\"][\"2017\":]\n",
    "model = ARIMA(training_data, order=(6,1,4)).fit()"
   ]
  },
  {
   "cell_type": "code",
   "execution_count": 16,
   "metadata": {},
   "outputs": [
    {
     "ename": "ImportError",
     "evalue": "matplotlib is required for plotting when the default backend \"matplotlib\" is selected.",
     "output_type": "error",
     "traceback": [
      "\u001b[1;31m---------------------------------------------------------------------------\u001b[0m",
      "\u001b[1;31mImportError\u001b[0m                               Traceback (most recent call last)",
      "\u001b[1;32mc:\\Users\\jibz1\\school\\Assignments\\Spending_Habit_Reader\\testing.ipynb Cell 45'\u001b[0m in \u001b[0;36m<cell line: 1>\u001b[1;34m()\u001b[0m\n\u001b[1;32m----> <a href='vscode-notebook-cell:/c%3A/Users/jibz1/school/Assignments/Spending_Habit_Reader/testing.ipynb#ch0000044?line=0'>1</a>\u001b[0m model\u001b[39m.\u001b[39;49mpredict(training_data\u001b[39m.\u001b[39;49mindex\u001b[39m.\u001b[39;49mmin(), (final_df\u001b[39m.\u001b[39;49mindex\u001b[39m.\u001b[39;49mmax() \u001b[39m+\u001b[39;49m pd\u001b[39m.\u001b[39;49moffsets\u001b[39m.\u001b[39;49mDateOffset(years\u001b[39m=\u001b[39;49m\u001b[39m10\u001b[39;49m)))\u001b[39m.\u001b[39;49mplot()\n",
      "File \u001b[1;32mc:\\Users\\jibz1\\school\\habit_spender_env\\lib\\site-packages\\pandas\\plotting\\_core.py:892\u001b[0m, in \u001b[0;36mPlotAccessor.__call__\u001b[1;34m(self, *args, **kwargs)\u001b[0m\n\u001b[0;32m    <a href='file:///c%3A/Users/jibz1/school/habit_spender_env/lib/site-packages/pandas/plotting/_core.py?line=890'>891</a>\u001b[0m \u001b[39mdef\u001b[39;00m \u001b[39m__call__\u001b[39m(\u001b[39mself\u001b[39m, \u001b[39m*\u001b[39margs, \u001b[39m*\u001b[39m\u001b[39m*\u001b[39mkwargs):\n\u001b[1;32m--> <a href='file:///c%3A/Users/jibz1/school/habit_spender_env/lib/site-packages/pandas/plotting/_core.py?line=891'>892</a>\u001b[0m     plot_backend \u001b[39m=\u001b[39m _get_plot_backend(kwargs\u001b[39m.\u001b[39;49mpop(\u001b[39m\"\u001b[39;49m\u001b[39mbackend\u001b[39;49m\u001b[39m\"\u001b[39;49m, \u001b[39mNone\u001b[39;49;00m))\n\u001b[0;32m    <a href='file:///c%3A/Users/jibz1/school/habit_spender_env/lib/site-packages/pandas/plotting/_core.py?line=893'>894</a>\u001b[0m     x, y, kind, kwargs \u001b[39m=\u001b[39m \u001b[39mself\u001b[39m\u001b[39m.\u001b[39m_get_call_args(\n\u001b[0;32m    <a href='file:///c%3A/Users/jibz1/school/habit_spender_env/lib/site-packages/pandas/plotting/_core.py?line=894'>895</a>\u001b[0m         plot_backend\u001b[39m.\u001b[39m\u001b[39m__name__\u001b[39m, \u001b[39mself\u001b[39m\u001b[39m.\u001b[39m_parent, args, kwargs\n\u001b[0;32m    <a href='file:///c%3A/Users/jibz1/school/habit_spender_env/lib/site-packages/pandas/plotting/_core.py?line=895'>896</a>\u001b[0m     )\n\u001b[0;32m    <a href='file:///c%3A/Users/jibz1/school/habit_spender_env/lib/site-packages/pandas/plotting/_core.py?line=897'>898</a>\u001b[0m     kind \u001b[39m=\u001b[39m \u001b[39mself\u001b[39m\u001b[39m.\u001b[39m_kind_aliases\u001b[39m.\u001b[39mget(kind, kind)\n",
      "File \u001b[1;32mc:\\Users\\jibz1\\school\\habit_spender_env\\lib\\site-packages\\pandas\\plotting\\_core.py:1849\u001b[0m, in \u001b[0;36m_get_plot_backend\u001b[1;34m(backend)\u001b[0m\n\u001b[0;32m   <a href='file:///c%3A/Users/jibz1/school/habit_spender_env/lib/site-packages/pandas/plotting/_core.py?line=1845'>1846</a>\u001b[0m \u001b[39mif\u001b[39;00m backend \u001b[39min\u001b[39;00m _backends:\n\u001b[0;32m   <a href='file:///c%3A/Users/jibz1/school/habit_spender_env/lib/site-packages/pandas/plotting/_core.py?line=1846'>1847</a>\u001b[0m     \u001b[39mreturn\u001b[39;00m _backends[backend]\n\u001b[1;32m-> <a href='file:///c%3A/Users/jibz1/school/habit_spender_env/lib/site-packages/pandas/plotting/_core.py?line=1848'>1849</a>\u001b[0m module \u001b[39m=\u001b[39m _load_backend(backend)\n\u001b[0;32m   <a href='file:///c%3A/Users/jibz1/school/habit_spender_env/lib/site-packages/pandas/plotting/_core.py?line=1849'>1850</a>\u001b[0m _backends[backend] \u001b[39m=\u001b[39m module\n\u001b[0;32m   <a href='file:///c%3A/Users/jibz1/school/habit_spender_env/lib/site-packages/pandas/plotting/_core.py?line=1850'>1851</a>\u001b[0m \u001b[39mreturn\u001b[39;00m module\n",
      "File \u001b[1;32mc:\\Users\\jibz1\\school\\habit_spender_env\\lib\\site-packages\\pandas\\plotting\\_core.py:1787\u001b[0m, in \u001b[0;36m_load_backend\u001b[1;34m(backend)\u001b[0m\n\u001b[0;32m   <a href='file:///c%3A/Users/jibz1/school/habit_spender_env/lib/site-packages/pandas/plotting/_core.py?line=1784'>1785</a>\u001b[0m         module \u001b[39m=\u001b[39m importlib\u001b[39m.\u001b[39mimport_module(\u001b[39m\"\u001b[39m\u001b[39mpandas.plotting._matplotlib\u001b[39m\u001b[39m\"\u001b[39m)\n\u001b[0;32m   <a href='file:///c%3A/Users/jibz1/school/habit_spender_env/lib/site-packages/pandas/plotting/_core.py?line=1785'>1786</a>\u001b[0m     \u001b[39mexcept\u001b[39;00m \u001b[39mImportError\u001b[39;00m:\n\u001b[1;32m-> <a href='file:///c%3A/Users/jibz1/school/habit_spender_env/lib/site-packages/pandas/plotting/_core.py?line=1786'>1787</a>\u001b[0m         \u001b[39mraise\u001b[39;00m \u001b[39mImportError\u001b[39;00m(\n\u001b[0;32m   <a href='file:///c%3A/Users/jibz1/school/habit_spender_env/lib/site-packages/pandas/plotting/_core.py?line=1787'>1788</a>\u001b[0m             \u001b[39m\"\u001b[39m\u001b[39mmatplotlib is required for plotting when the \u001b[39m\u001b[39m\"\u001b[39m\n\u001b[0;32m   <a href='file:///c%3A/Users/jibz1/school/habit_spender_env/lib/site-packages/pandas/plotting/_core.py?line=1788'>1789</a>\u001b[0m             \u001b[39m'\u001b[39m\u001b[39mdefault backend \u001b[39m\u001b[39m\"\u001b[39m\u001b[39mmatplotlib\u001b[39m\u001b[39m\"\u001b[39m\u001b[39m is selected.\u001b[39m\u001b[39m'\u001b[39m\n\u001b[0;32m   <a href='file:///c%3A/Users/jibz1/school/habit_spender_env/lib/site-packages/pandas/plotting/_core.py?line=1789'>1790</a>\u001b[0m         ) \u001b[39mfrom\u001b[39;00m \u001b[39mNone\u001b[39m\n\u001b[0;32m   <a href='file:///c%3A/Users/jibz1/school/habit_spender_env/lib/site-packages/pandas/plotting/_core.py?line=1790'>1791</a>\u001b[0m     \u001b[39mreturn\u001b[39;00m module\n\u001b[0;32m   <a href='file:///c%3A/Users/jibz1/school/habit_spender_env/lib/site-packages/pandas/plotting/_core.py?line=1792'>1793</a>\u001b[0m found_backend \u001b[39m=\u001b[39m \u001b[39mFalse\u001b[39;00m\n",
      "\u001b[1;31mImportError\u001b[0m: matplotlib is required for plotting when the default backend \"matplotlib\" is selected."
     ]
    }
   ],
   "source": [
    "\n",
    "model.predict(training_data.index.min(), (final_df.index.max() + pd.offsets.DateOffset(years=10))).plot()"
   ]
  },
  {
   "cell_type": "code",
   "execution_count": 17,
   "metadata": {},
   "outputs": [
    {
     "data": {
      "text/plain": [
       "Timestamp('2032-04-01 00:00:00')"
      ]
     },
     "execution_count": 17,
     "metadata": {},
     "output_type": "execute_result"
    }
   ],
   "source": [
    "final_df.index.max() + pd.offsets.DateOffset(years=10)"
   ]
  },
  {
   "cell_type": "code",
   "execution_count": 18,
   "metadata": {},
   "outputs": [
    {
     "ename": "ImportError",
     "evalue": "Matplotlib is not found.",
     "output_type": "error",
     "traceback": [
      "\u001b[1;31m---------------------------------------------------------------------------\u001b[0m",
      "\u001b[1;31mModuleNotFoundError\u001b[0m                       Traceback (most recent call last)",
      "File \u001b[1;32mc:\\Users\\jibz1\\school\\habit_spender_env\\lib\\site-packages\\statsmodels\\graphics\\utils.py:10\u001b[0m, in \u001b[0;36m_import_mpl\u001b[1;34m()\u001b[0m\n\u001b[0;32m      <a href='file:///c%3A/Users/jibz1/school/habit_spender_env/lib/site-packages/statsmodels/graphics/utils.py?line=8'>9</a>\u001b[0m \u001b[39mtry\u001b[39;00m:\n\u001b[1;32m---> <a href='file:///c%3A/Users/jibz1/school/habit_spender_env/lib/site-packages/statsmodels/graphics/utils.py?line=9'>10</a>\u001b[0m     \u001b[39mimport\u001b[39;00m \u001b[39mmatplotlib\u001b[39;00m\u001b[39m.\u001b[39;00m\u001b[39mpyplot\u001b[39;00m \u001b[39mas\u001b[39;00m \u001b[39mplt\u001b[39;00m\n\u001b[0;32m     <a href='file:///c%3A/Users/jibz1/school/habit_spender_env/lib/site-packages/statsmodels/graphics/utils.py?line=10'>11</a>\u001b[0m \u001b[39mexcept\u001b[39;00m:\n",
      "\u001b[1;31mModuleNotFoundError\u001b[0m: No module named 'matplotlib'",
      "\nDuring handling of the above exception, another exception occurred:\n",
      "\u001b[1;31mImportError\u001b[0m                               Traceback (most recent call last)",
      "\u001b[1;32mc:\\Users\\jibz1\\school\\Assignments\\Spending_Habit_Reader\\testing.ipynb Cell 47'\u001b[0m in \u001b[0;36m<cell line: 1>\u001b[1;34m()\u001b[0m\n\u001b[1;32m----> <a href='vscode-notebook-cell:/c%3A/Users/jibz1/school/Assignments/Spending_Habit_Reader/testing.ipynb#ch0000046?line=0'>1</a>\u001b[0m plot_acf(training_data)\n\u001b[0;32m      <a href='vscode-notebook-cell:/c%3A/Users/jibz1/school/Assignments/Spending_Habit_Reader/testing.ipynb#ch0000046?line=1'>2</a>\u001b[0m plot_pacf(training_data)\n\u001b[0;32m      <a href='vscode-notebook-cell:/c%3A/Users/jibz1/school/Assignments/Spending_Habit_Reader/testing.ipynb#ch0000046?line=2'>3</a>\u001b[0m plt\u001b[39m.\u001b[39mshow()\n",
      "File \u001b[1;32mc:\\Users\\jibz1\\school\\habit_spender_env\\lib\\site-packages\\pandas\\util\\_decorators.py:207\u001b[0m, in \u001b[0;36mdeprecate_kwarg.<locals>._deprecate_kwarg.<locals>.wrapper\u001b[1;34m(*args, **kwargs)\u001b[0m\n\u001b[0;32m    <a href='file:///c%3A/Users/jibz1/school/habit_spender_env/lib/site-packages/pandas/util/_decorators.py?line=204'>205</a>\u001b[0m     \u001b[39melse\u001b[39;00m:\n\u001b[0;32m    <a href='file:///c%3A/Users/jibz1/school/habit_spender_env/lib/site-packages/pandas/util/_decorators.py?line=205'>206</a>\u001b[0m         kwargs[new_arg_name] \u001b[39m=\u001b[39m new_arg_value\n\u001b[1;32m--> <a href='file:///c%3A/Users/jibz1/school/habit_spender_env/lib/site-packages/pandas/util/_decorators.py?line=206'>207</a>\u001b[0m \u001b[39mreturn\u001b[39;00m func(\u001b[39m*\u001b[39margs, \u001b[39m*\u001b[39m\u001b[39m*\u001b[39mkwargs)\n",
      "File \u001b[1;32mc:\\Users\\jibz1\\school\\habit_spender_env\\lib\\site-packages\\statsmodels\\graphics\\tsaplots.py:209\u001b[0m, in \u001b[0;36mplot_acf\u001b[1;34m(x, ax, lags, alpha, use_vlines, adjusted, fft, missing, title, zero, auto_ylims, bartlett_confint, vlines_kwargs, **kwargs)\u001b[0m\n\u001b[0;32m     <a href='file:///c%3A/Users/jibz1/school/habit_spender_env/lib/site-packages/statsmodels/graphics/tsaplots.py?line=81'>82</a>\u001b[0m \u001b[39m@deprecate_kwarg\u001b[39m(\u001b[39m\"\u001b[39m\u001b[39munbiased\u001b[39m\u001b[39m\"\u001b[39m, \u001b[39m\"\u001b[39m\u001b[39madjusted\u001b[39m\u001b[39m\"\u001b[39m)\n\u001b[0;32m     <a href='file:///c%3A/Users/jibz1/school/habit_spender_env/lib/site-packages/statsmodels/graphics/tsaplots.py?line=82'>83</a>\u001b[0m \u001b[39mdef\u001b[39;00m \u001b[39mplot_acf\u001b[39m(\n\u001b[0;32m     <a href='file:///c%3A/Users/jibz1/school/habit_spender_env/lib/site-packages/statsmodels/graphics/tsaplots.py?line=83'>84</a>\u001b[0m     x,\n\u001b[1;32m   (...)\u001b[0m\n\u001b[0;32m     <a href='file:///c%3A/Users/jibz1/school/habit_spender_env/lib/site-packages/statsmodels/graphics/tsaplots.py?line=97'>98</a>\u001b[0m     \u001b[39m*\u001b[39m\u001b[39m*\u001b[39mkwargs,\n\u001b[0;32m     <a href='file:///c%3A/Users/jibz1/school/habit_spender_env/lib/site-packages/statsmodels/graphics/tsaplots.py?line=98'>99</a>\u001b[0m ):\n\u001b[0;32m    <a href='file:///c%3A/Users/jibz1/school/habit_spender_env/lib/site-packages/statsmodels/graphics/tsaplots.py?line=99'>100</a>\u001b[0m     \u001b[39m\"\"\"\u001b[39;00m\n\u001b[0;32m    <a href='file:///c%3A/Users/jibz1/school/habit_spender_env/lib/site-packages/statsmodels/graphics/tsaplots.py?line=100'>101</a>\u001b[0m \u001b[39m    Plot the autocorrelation function\u001b[39;00m\n\u001b[0;32m    <a href='file:///c%3A/Users/jibz1/school/habit_spender_env/lib/site-packages/statsmodels/graphics/tsaplots.py?line=101'>102</a>\u001b[0m \n\u001b[1;32m   (...)\u001b[0m\n\u001b[0;32m    <a href='file:///c%3A/Users/jibz1/school/habit_spender_env/lib/site-packages/statsmodels/graphics/tsaplots.py?line=206'>207</a>\u001b[0m \u001b[39m    .. plot:: plots/graphics_tsa_plot_acf.py\u001b[39;00m\n\u001b[0;32m    <a href='file:///c%3A/Users/jibz1/school/habit_spender_env/lib/site-packages/statsmodels/graphics/tsaplots.py?line=207'>208</a>\u001b[0m \u001b[39m    \"\"\"\u001b[39;00m\n\u001b[1;32m--> <a href='file:///c%3A/Users/jibz1/school/habit_spender_env/lib/site-packages/statsmodels/graphics/tsaplots.py?line=208'>209</a>\u001b[0m     fig, ax \u001b[39m=\u001b[39m utils\u001b[39m.\u001b[39;49mcreate_mpl_ax(ax)\n\u001b[0;32m    <a href='file:///c%3A/Users/jibz1/school/habit_spender_env/lib/site-packages/statsmodels/graphics/tsaplots.py?line=210'>211</a>\u001b[0m     lags, nlags, irregular \u001b[39m=\u001b[39m _prepare_data_corr_plot(x, lags, zero)\n\u001b[0;32m    <a href='file:///c%3A/Users/jibz1/school/habit_spender_env/lib/site-packages/statsmodels/graphics/tsaplots.py?line=211'>212</a>\u001b[0m     vlines_kwargs \u001b[39m=\u001b[39m {} \u001b[39mif\u001b[39;00m vlines_kwargs \u001b[39mis\u001b[39;00m \u001b[39mNone\u001b[39;00m \u001b[39melse\u001b[39;00m vlines_kwargs\n",
      "File \u001b[1;32mc:\\Users\\jibz1\\school\\habit_spender_env\\lib\\site-packages\\statsmodels\\graphics\\utils.py:54\u001b[0m, in \u001b[0;36mcreate_mpl_ax\u001b[1;34m(ax)\u001b[0m\n\u001b[0;32m     <a href='file:///c%3A/Users/jibz1/school/habit_spender_env/lib/site-packages/statsmodels/graphics/utils.py?line=17'>18</a>\u001b[0m \u001b[39m\"\"\"Helper function for when a single plot axis is needed.\u001b[39;00m\n\u001b[0;32m     <a href='file:///c%3A/Users/jibz1/school/habit_spender_env/lib/site-packages/statsmodels/graphics/utils.py?line=18'>19</a>\u001b[0m \n\u001b[0;32m     <a href='file:///c%3A/Users/jibz1/school/habit_spender_env/lib/site-packages/statsmodels/graphics/utils.py?line=19'>20</a>\u001b[0m \u001b[39mParameters\u001b[39;00m\n\u001b[1;32m   (...)\u001b[0m\n\u001b[0;32m     <a href='file:///c%3A/Users/jibz1/school/habit_spender_env/lib/site-packages/statsmodels/graphics/utils.py?line=50'>51</a>\u001b[0m \u001b[39m>>> fig, ax = utils.create_mpl_ax(ax)\u001b[39;00m\n\u001b[0;32m     <a href='file:///c%3A/Users/jibz1/school/habit_spender_env/lib/site-packages/statsmodels/graphics/utils.py?line=51'>52</a>\u001b[0m \u001b[39m\"\"\"\u001b[39;00m\n\u001b[0;32m     <a href='file:///c%3A/Users/jibz1/school/habit_spender_env/lib/site-packages/statsmodels/graphics/utils.py?line=52'>53</a>\u001b[0m \u001b[39mif\u001b[39;00m ax \u001b[39mis\u001b[39;00m \u001b[39mNone\u001b[39;00m:\n\u001b[1;32m---> <a href='file:///c%3A/Users/jibz1/school/habit_spender_env/lib/site-packages/statsmodels/graphics/utils.py?line=53'>54</a>\u001b[0m     plt \u001b[39m=\u001b[39m _import_mpl()\n\u001b[0;32m     <a href='file:///c%3A/Users/jibz1/school/habit_spender_env/lib/site-packages/statsmodels/graphics/utils.py?line=54'>55</a>\u001b[0m     fig \u001b[39m=\u001b[39m plt\u001b[39m.\u001b[39mfigure()\n\u001b[0;32m     <a href='file:///c%3A/Users/jibz1/school/habit_spender_env/lib/site-packages/statsmodels/graphics/utils.py?line=55'>56</a>\u001b[0m     ax \u001b[39m=\u001b[39m fig\u001b[39m.\u001b[39madd_subplot(\u001b[39m111\u001b[39m)\n",
      "File \u001b[1;32mc:\\Users\\jibz1\\school\\habit_spender_env\\lib\\site-packages\\statsmodels\\graphics\\utils.py:12\u001b[0m, in \u001b[0;36m_import_mpl\u001b[1;34m()\u001b[0m\n\u001b[0;32m     <a href='file:///c%3A/Users/jibz1/school/habit_spender_env/lib/site-packages/statsmodels/graphics/utils.py?line=9'>10</a>\u001b[0m     \u001b[39mimport\u001b[39;00m \u001b[39mmatplotlib\u001b[39;00m\u001b[39m.\u001b[39;00m\u001b[39mpyplot\u001b[39;00m \u001b[39mas\u001b[39;00m \u001b[39mplt\u001b[39;00m\n\u001b[0;32m     <a href='file:///c%3A/Users/jibz1/school/habit_spender_env/lib/site-packages/statsmodels/graphics/utils.py?line=10'>11</a>\u001b[0m \u001b[39mexcept\u001b[39;00m:\n\u001b[1;32m---> <a href='file:///c%3A/Users/jibz1/school/habit_spender_env/lib/site-packages/statsmodels/graphics/utils.py?line=11'>12</a>\u001b[0m     \u001b[39mraise\u001b[39;00m \u001b[39mImportError\u001b[39;00m(\u001b[39m\"\u001b[39m\u001b[39mMatplotlib is not found.\u001b[39m\u001b[39m\"\u001b[39m)\n\u001b[0;32m     <a href='file:///c%3A/Users/jibz1/school/habit_spender_env/lib/site-packages/statsmodels/graphics/utils.py?line=13'>14</a>\u001b[0m \u001b[39mreturn\u001b[39;00m plt\n",
      "\u001b[1;31mImportError\u001b[0m: Matplotlib is not found."
     ]
    }
   ],
   "source": [
    "plot_acf(training_data)\n",
    "plot_pacf(training_data)\n",
    "plt.show()"
   ]
  },
  {
   "cell_type": "code",
   "execution_count": 19,
   "metadata": {},
   "outputs": [
    {
     "data": {
      "text/plain": [
       "<statsmodels.tsa.arima.model.ARIMAResultsWrapper at 0x1e0b2828610>"
      ]
     },
     "execution_count": 19,
     "metadata": {},
     "output_type": "execute_result"
    }
   ],
   "source": [
    "model"
   ]
  },
  {
   "cell_type": "code",
   "execution_count": 42,
   "metadata": {},
   "outputs": [],
   "source": [
    "f = open(\"test_text.txt\", \"w\")"
   ]
  },
  {
   "cell_type": "code",
   "execution_count": 45,
   "metadata": {},
   "outputs": [
    {
     "data": {
      "text/plain": [
       "4"
      ]
     },
     "execution_count": 45,
     "metadata": {},
     "output_type": "execute_result"
    }
   ],
   "source": [
    "f.write(\"hope\")"
   ]
  },
  {
   "cell_type": "code",
   "execution_count": 46,
   "metadata": {},
   "outputs": [],
   "source": [
    "f.writelines([\"howdy\", \"folks\"])"
   ]
  },
  {
   "cell_type": "code",
   "execution_count": 47,
   "metadata": {},
   "outputs": [],
   "source": [
    "f.close()"
   ]
  },
  {
   "cell_type": "code",
   "execution_count": 50,
   "metadata": {},
   "outputs": [
    {
     "data": {
      "text/plain": [
       "<function BufferedWriter.close>"
      ]
     },
     "execution_count": 50,
     "metadata": {},
     "output_type": "execute_result"
    }
   ],
   "source": [
    "#to export a model\n",
    "\n",
    "#store open so we can later close it\n",
    "f = open(\"testing_model.md\", \"xb\")\n",
    "pickle.dump(model, f)\n",
    "f.close() "
   ]
  },
  {
   "cell_type": "code",
   "execution_count": 52,
   "metadata": {},
   "outputs": [],
   "source": [
    "f = open(\"testing_model.md\", \"rb\")\n",
    "model_ex = pickle.load(f)\n",
    "f.close()"
   ]
  },
  {
   "cell_type": "code",
   "execution_count": 53,
   "metadata": {},
   "outputs": [
    {
     "data": {
      "text/plain": [
       "<statsmodels.tsa.arima.model.ARIMAResultsWrapper at 0x1e0b79ec580>"
      ]
     },
     "execution_count": 53,
     "metadata": {},
     "output_type": "execute_result"
    }
   ],
   "source": [
    "model_ex"
   ]
  },
  {
   "cell_type": "code",
   "execution_count": 54,
   "metadata": {},
   "outputs": [
    {
     "data": {
      "text/html": [
       "<table class=\"simpletable\">\n",
       "<caption>SARIMAX Results</caption>\n",
       "<tr>\n",
       "  <th>Dep. Variable:</th>      <td>percentage</td>    <th>  No. Observations:  </th>   <td>63</td>  \n",
       "</tr>\n",
       "<tr>\n",
       "  <th>Model:</th>            <td>ARIMA(6, 1, 4)</td>  <th>  Log Likelihood     </th> <td>14.690</td>\n",
       "</tr>\n",
       "<tr>\n",
       "  <th>Date:</th>            <td>Sat, 21 May 2022</td> <th>  AIC                </th> <td>-7.380</td>\n",
       "</tr>\n",
       "<tr>\n",
       "  <th>Time:</th>                <td>17:35:42</td>     <th>  BIC                </th> <td>16.019</td>\n",
       "</tr>\n",
       "<tr>\n",
       "  <th>Sample:</th>             <td>02-01-2017</td>    <th>  HQIC               </th>  <td>1.807</td>\n",
       "</tr>\n",
       "<tr>\n",
       "  <th></th>                   <td>- 04-01-2022</td>   <th>                     </th>    <td> </td>  \n",
       "</tr>\n",
       "<tr>\n",
       "  <th>Covariance Type:</th>        <td>opg</td>       <th>                     </th>    <td> </td>  \n",
       "</tr>\n",
       "</table>\n",
       "<table class=\"simpletable\">\n",
       "<tr>\n",
       "     <td></td>       <th>coef</th>     <th>std err</th>      <th>z</th>      <th>P>|z|</th>  <th>[0.025</th>    <th>0.975]</th>  \n",
       "</tr>\n",
       "<tr>\n",
       "  <th>ar.L1</th>  <td>    0.1093</td> <td>    0.276</td> <td>    0.397</td> <td> 0.692</td> <td>   -0.431</td> <td>    0.650</td>\n",
       "</tr>\n",
       "<tr>\n",
       "  <th>ar.L2</th>  <td>    0.0096</td> <td>    0.235</td> <td>    0.041</td> <td> 0.968</td> <td>   -0.451</td> <td>    0.470</td>\n",
       "</tr>\n",
       "<tr>\n",
       "  <th>ar.L3</th>  <td>    0.7563</td> <td>    0.278</td> <td>    2.716</td> <td> 0.007</td> <td>    0.211</td> <td>    1.302</td>\n",
       "</tr>\n",
       "<tr>\n",
       "  <th>ar.L4</th>  <td>   -0.3129</td> <td>    0.301</td> <td>   -1.039</td> <td> 0.299</td> <td>   -0.903</td> <td>    0.277</td>\n",
       "</tr>\n",
       "<tr>\n",
       "  <th>ar.L5</th>  <td>   -0.2497</td> <td>    0.246</td> <td>   -1.015</td> <td> 0.310</td> <td>   -0.732</td> <td>    0.232</td>\n",
       "</tr>\n",
       "<tr>\n",
       "  <th>ar.L6</th>  <td>   -0.0399</td> <td>    0.233</td> <td>   -0.171</td> <td> 0.864</td> <td>   -0.497</td> <td>    0.417</td>\n",
       "</tr>\n",
       "<tr>\n",
       "  <th>ma.L1</th>  <td>   -0.9246</td> <td>    0.275</td> <td>   -3.363</td> <td> 0.001</td> <td>   -1.464</td> <td>   -0.386</td>\n",
       "</tr>\n",
       "<tr>\n",
       "  <th>ma.L2</th>  <td>    0.4269</td> <td>    0.304</td> <td>    1.406</td> <td> 0.160</td> <td>   -0.168</td> <td>    1.022</td>\n",
       "</tr>\n",
       "<tr>\n",
       "  <th>ma.L3</th>  <td>   -0.8754</td> <td>    0.336</td> <td>   -2.604</td> <td> 0.009</td> <td>   -1.534</td> <td>   -0.216</td>\n",
       "</tr>\n",
       "<tr>\n",
       "  <th>ma.L4</th>  <td>    0.8674</td> <td>    0.316</td> <td>    2.747</td> <td> 0.006</td> <td>    0.248</td> <td>    1.486</td>\n",
       "</tr>\n",
       "<tr>\n",
       "  <th>sigma2</th> <td>    0.0340</td> <td>    0.009</td> <td>    3.642</td> <td> 0.000</td> <td>    0.016</td> <td>    0.052</td>\n",
       "</tr>\n",
       "</table>\n",
       "<table class=\"simpletable\">\n",
       "<tr>\n",
       "  <th>Ljung-Box (L1) (Q):</th>     <td>0.09</td> <th>  Jarque-Bera (JB):  </th> <td>3.12</td> \n",
       "</tr>\n",
       "<tr>\n",
       "  <th>Prob(Q):</th>                <td>0.76</td> <th>  Prob(JB):          </th> <td>0.21</td> \n",
       "</tr>\n",
       "<tr>\n",
       "  <th>Heteroskedasticity (H):</th> <td>2.64</td> <th>  Skew:              </th> <td>-0.49</td>\n",
       "</tr>\n",
       "<tr>\n",
       "  <th>Prob(H) (two-sided):</th>    <td>0.03</td> <th>  Kurtosis:          </th> <td>3.51</td> \n",
       "</tr>\n",
       "</table><br/><br/>Warnings:<br/>[1] Covariance matrix calculated using the outer product of gradients (complex-step)."
      ],
      "text/plain": [
       "<class 'statsmodels.iolib.summary.Summary'>\n",
       "\"\"\"\n",
       "                               SARIMAX Results                                \n",
       "==============================================================================\n",
       "Dep. Variable:             percentage   No. Observations:                   63\n",
       "Model:                 ARIMA(6, 1, 4)   Log Likelihood                  14.690\n",
       "Date:                Sat, 21 May 2022   AIC                             -7.380\n",
       "Time:                        17:35:42   BIC                             16.019\n",
       "Sample:                    02-01-2017   HQIC                             1.807\n",
       "                         - 04-01-2022                                         \n",
       "Covariance Type:                  opg                                         \n",
       "==============================================================================\n",
       "                 coef    std err          z      P>|z|      [0.025      0.975]\n",
       "------------------------------------------------------------------------------\n",
       "ar.L1          0.1093      0.276      0.397      0.692      -0.431       0.650\n",
       "ar.L2          0.0096      0.235      0.041      0.968      -0.451       0.470\n",
       "ar.L3          0.7563      0.278      2.716      0.007       0.211       1.302\n",
       "ar.L4         -0.3129      0.301     -1.039      0.299      -0.903       0.277\n",
       "ar.L5         -0.2497      0.246     -1.015      0.310      -0.732       0.232\n",
       "ar.L6         -0.0399      0.233     -0.171      0.864      -0.497       0.417\n",
       "ma.L1         -0.9246      0.275     -3.363      0.001      -1.464      -0.386\n",
       "ma.L2          0.4269      0.304      1.406      0.160      -0.168       1.022\n",
       "ma.L3         -0.8754      0.336     -2.604      0.009      -1.534      -0.216\n",
       "ma.L4          0.8674      0.316      2.747      0.006       0.248       1.486\n",
       "sigma2         0.0340      0.009      3.642      0.000       0.016       0.052\n",
       "===================================================================================\n",
       "Ljung-Box (L1) (Q):                   0.09   Jarque-Bera (JB):                 3.12\n",
       "Prob(Q):                              0.76   Prob(JB):                         0.21\n",
       "Heteroskedasticity (H):               2.64   Skew:                            -0.49\n",
       "Prob(H) (two-sided):                  0.03   Kurtosis:                         3.51\n",
       "===================================================================================\n",
       "\n",
       "Warnings:\n",
       "[1] Covariance matrix calculated using the outer product of gradients (complex-step).\n",
       "\"\"\""
      ]
     },
     "execution_count": 54,
     "metadata": {},
     "output_type": "execute_result"
    }
   ],
   "source": [
    "model_ex.summary()"
   ]
  },
  {
   "cell_type": "code",
   "execution_count": 70,
   "metadata": {},
   "outputs": [
    {
     "data": {
      "text/plain": [
       "['bills.md', 'food.md', 'other.md', 'retail.md', 'third_party.md', 'travel.md']"
      ]
     },
     "execution_count": 70,
     "metadata": {},
     "output_type": "execute_result"
    }
   ],
   "source": [
    "import os\n",
    "import pandas as pd\n",
    "import matplotlib.pyplot as plt\n",
    "import pickle\n",
    "from statsmodels.tsa.arima.model import ARIMA\n",
    "os.listdir(\"models\")"
   ]
  },
  {
   "cell_type": "code",
   "execution_count": 71,
   "metadata": {},
   "outputs": [],
   "source": [
    "df = pd.read_csv(\"catagory_data.csv\")\n",
    "df.date = df.date.astype(\"datetime64\")\n",
    "df.set_index(\"date\", inplace=True)\n",
    "df = df[\"2017\":]"
   ]
  },
  {
   "cell_type": "code",
   "execution_count": 76,
   "metadata": {},
   "outputs": [
    {
     "data": {
      "image/png": "[encoded data removed]",
      "text/plain": [
       "<Figure size 432x288 with 1 Axes>"
      ]
     },
     "metadata": {
      "needs_background": "light"
     },
     "output_type": "display_data"
    },
    {
     "data": {
      "image/png": "[encoded data removed]",
      "text/plain": [
       "<Figure size 432x288 with 1 Axes>"
      ]
     },
     "metadata": {
      "needs_background": "light"
     },
     "output_type": "display_data"
    },
    {
     "data": {
      "image/png": "[encoded data removed]",
      "text/plain": [
       "<Figure size 432x288 with 1 Axes>"
      ]
     },
     "metadata": {
      "needs_background": "light"
     },
     "output_type": "display_data"
    },
    {
     "data": {
      "image/png": "[encoded data removed]",
      "text/plain": [
       "<Figure size 432x288 with 1 Axes>"
      ]
     },
     "metadata": {
      "needs_background": "light"
     },
     "output_type": "display_data"
    },
    {
     "data": {
      "image/png": "[encoded data removed]",
      "text/plain": [
       "<Figure size 432x288 with 1 Axes>"
      ]
     },
     "metadata": {
      "needs_background": "light"
     },
     "output_type": "display_data"
    },
    {
     "data": {
      "image/png": "[encoded data removed]",
      "text/plain": [
       "<Figure size 432x288 with 1 Axes>"
      ]
     },
     "metadata": {
      "needs_background": "light"
     },
     "output_type": "display_data"
    }
   ],
   "source": [
    "for cat in os.listdir(\"models\"):\n",
    "    catagory = cat[:-3]\n",
    "    mod = pickle.load(open(f\"models/{cat}\", \"rb\"))\n",
    "    plt.plot(df.loc[df.catagory == catagory, \"percentage\"], label = \"true values\")\n",
    "    mod.predict(df.index.min(),df.index.max() + pd.offsets.DateOffset(years = 5)).plot(label = \"predicted values\")\n",
    "    plt.legend()\n",
    "    plt.show()"
   ]
  },
  {
   "cell_type": "code",
   "execution_count": null,
   "metadata": {},
   "outputs": [],
   "source": []
  }
 ],
 "metadata": {
  "interpreter": {
   "hash": "b78bd855722543ba81a7793149693a5f6e4fd5a8266cbb271cfa15126225a108"
  },
  "kernelspec": {
   "display_name": "Python 3.9.9 ('habit_spender_env')",
   "language": "python",
   "name": "python3"
  },
  "language_info": {
   "codemirror_mode": {
    "name": "ipython",
    "version": 3
   },
   "file_extension": ".py",
   "mimetype": "text/x-python",
   "name": "python",
   "nbconvert_exporter": "python",
   "pygments_lexer": "ipython3",
   "version": "3.9.9"
  },
  "orig_nbformat": 4
 },
 "nbformat": 4,
 "nbformat_minor": 2
}
