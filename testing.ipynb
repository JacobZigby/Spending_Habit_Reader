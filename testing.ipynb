{
 "cells": [
  {
   "cell_type": "code",
   "execution_count": 9,
   "metadata": {},
   "outputs": [],
   "source": [
    "import pytesseract\n",
    "from pdf2image import convert_from_path\n",
    "from PIL import Image\n",
    "import os\n"
   ]
  },
  {
   "cell_type": "code",
   "execution_count": null,
   "metadata": {},
   "outputs": [],
   "source": [
    "temp1 = convert_from_path(\"data/unprocessed/debit/2016-11-01_Statement.pdf\")[1]\n",
    "config = \"--psm 12\" #working numbers 6, 11, 12\n",
    "print(pytesseract.image_to_string(temp1,config=config))"
   ]
  },
  {
   "cell_type": "code",
   "execution_count": null,
   "metadata": {},
   "outputs": [],
   "source": [
    "temp1 = convert_from_path(\"data/unprocessed/debit/2017-01-01_Statement.pdf\")[1]\n",
    "config = \"--psm 11\" #working numbers 6, 11, 12\n",
    "string_temp = pytesseract.image_to_string(temp1,config=config)\n",
    "print(string_temp.split(\"\\nDate\\n\\nDescription\\n\\nRetraits ($)\\n\\nDépots ($)\\n\\nSoldes ($)\")[1].split(\"Total\")[0].split(\"\\n\\n\")[4:])"
   ]
  },
  {
   "cell_type": "code",
   "execution_count": null,
   "metadata": {},
   "outputs": [],
   "source": [
    "temp1"
   ]
  },
  {
   "cell_type": "code",
   "execution_count": null,
   "metadata": {},
   "outputs": [],
   "source": [
    "print(pytesseract.image_to_string(temp1))"
   ]
  },
  {
   "cell_type": "code",
   "execution_count": null,
   "metadata": {},
   "outputs": [],
   "source": [
    "Image.open(temp1)"
   ]
  },
  {
   "cell_type": "markdown",
   "metadata": {},
   "source": [
    "Attempt 2"
   ]
  },
  {
   "cell_type": "code",
   "execution_count": null,
   "metadata": {},
   "outputs": [],
   "source": [
    "#Turn all pdfs into a jpeg image\n",
    "print(os.listdir(\"data/unprocessed/debit\"))\n"
   ]
  },
  {
   "cell_type": "code",
   "execution_count": null,
   "metadata": {},
   "outputs": [],
   "source": [
    "image_test = convert_from_path(\"data/unprocessed/debit/2016-11-01_Statement.pdf\")[1]\n",
    "image_test.size"
   ]
  },
  {
   "cell_type": "code",
   "execution_count": null,
   "metadata": {},
   "outputs": [],
   "source": [
    "#image_test2 = image_test.crop((325,400,1650,2200))\n",
    "image_test2 = image_test.crop((325,397,1650,424))\n",
    "config = \"--psm 12 --oem 1\"\n",
    "string_temp = pytesseract.image_to_string(image_test2, config=config)\n",
    "print(string_temp)"
   ]
  },
  {
   "cell_type": "code",
   "execution_count": null,
   "metadata": {},
   "outputs": [],
   "source": [
    "image_test2"
   ]
  },
  {
   "cell_type": "code",
   "execution_count": null,
   "metadata": {},
   "outputs": [],
   "source": [
    "#image_test2 = image_test.crop((325,400,1650,2200))\n",
    "image_test3 = image_test.crop((325,430,1650,457))\n",
    "config = \"--psm 7 --oem 1\"\n",
    "string_temp = pytesseract.image_to_string(image_test3, config=config)\n",
    "print(string_temp)"
   ]
  },
  {
   "cell_type": "code",
   "execution_count": null,
   "metadata": {},
   "outputs": [],
   "source": [
    "image_test3\n"
   ]
  },
  {
   "cell_type": "code",
   "execution_count": null,
   "metadata": {},
   "outputs": [],
   "source": [
    "image_test4 = image_test.crop((325,463,1650,490))\n",
    "config = \"--psm 7 --oem 1\"\n",
    "string_temp = pytesseract.image_to_string(image_test4, config=config)\n",
    "print(string_temp)"
   ]
  },
  {
   "cell_type": "code",
   "execution_count": null,
   "metadata": {},
   "outputs": [],
   "source": [
    "image_test4"
   ]
  },
  {
   "cell_type": "code",
   "execution_count": null,
   "metadata": {},
   "outputs": [],
   "source": [
    "image_test5 = image_test.crop((325,490+6,1650,490+6+27))\n",
    "config = \"--psm 12 --oem 1\"\n",
    "string_temp = pytesseract.image_to_string(image_test5, config=config)\n",
    "string_temp"
   ]
  },
  {
   "cell_type": "code",
   "execution_count": null,
   "metadata": {},
   "outputs": [],
   "source": [
    "image_test5"
   ]
  },
  {
   "cell_type": "code",
   "execution_count": null,
   "metadata": {},
   "outputs": [],
   "source": [
    "string_temp.rstrip(\"\\n\")"
   ]
  }
 ],
 "metadata": {
  "interpreter": {
   "hash": "d41f89ed4d108368e8da037f9a285a300ce50ee694a78633347275be4277e947"
  },
  "kernelspec": {
   "display_name": "Python 3.9.12 ('habit_env')",
   "language": "python",
   "name": "python3"
  },
  "language_info": {
   "codemirror_mode": {
    "name": "ipython",
    "version": 3
   },
   "file_extension": ".py",
   "mimetype": "text/x-python",
   "name": "python",
   "nbconvert_exporter": "python",
   "pygments_lexer": "ipython3",
   "version": "3.9.12"
  },
  "orig_nbformat": 4
 },
 "nbformat": 4,
 "nbformat_minor": 2
}
