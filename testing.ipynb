{
 "cells": [
  {
   "cell_type": "code",
   "execution_count": 9,
   "metadata": {},
   "outputs": [],
   "source": [
    "import pytesseract\n",
    "from pdf2image import convert_from_path\n",
    "from PIL import Image\n",
    "import os\n"
   ]
  },
  {
   "cell_type": "code",
   "execution_count": null,
   "metadata": {},
   "outputs": [],
   "source": [
    "temp1 = convert_from_path(\"data/unprocessed/debit/2016-11-01_Statement.pdf\")[1]\n",
    "config = \"--psm 12\" #working numbers 6, 11, 12\n",
    "print(pytesseract.image_to_string(temp1,config=config))"
   ]
  },
  {
   "cell_type": "code",
   "execution_count": null,
   "metadata": {},
   "outputs": [],
   "source": [
    "temp1 = convert_from_path(\"data/unprocessed/debit/2017-01-01_Statement.pdf\")[1]\n",
    "config = \"--psm 11\" #working numbers 6, 11, 12\n",
    "string_temp = pytesseract.image_to_string(temp1,config=config)\n",
    "print(string_temp.split(\"\\nDate\\n\\nDescription\\n\\nRetraits ($)\\n\\nDépots ($)\\n\\nSoldes ($)\")[1].split(\"Total\")[0].split(\"\\n\\n\")[4:])"
   ]
  },
  {
   "cell_type": "code",
   "execution_count": null,
   "metadata": {},
   "outputs": [],
   "source": [
    "temp1"
   ]
  },
  {
   "cell_type": "code",
   "execution_count": null,
   "metadata": {},
   "outputs": [],
   "source": [
    "print(pytesseract.image_to_string(temp1))"
   ]
  },
  {
   "cell_type": "code",
   "execution_count": null,
   "metadata": {},
   "outputs": [],
   "source": [
    "Image.open(temp1)"
   ]
  },
  {
   "cell_type": "markdown",
   "metadata": {},
   "source": [
    "Attempt 2"
   ]
  },
  {
   "cell_type": "code",
   "execution_count": null,
   "metadata": {},
   "outputs": [],
   "source": [
    "#Turn all pdfs into a jpeg image\n",
    "print(os.listdir(\"data/unprocessed/debit\"))\n"
   ]
  },
  {
   "cell_type": "code",
   "execution_count": null,
   "metadata": {},
   "outputs": [],
   "source": [
    "image_test = convert_from_path(\"data/unprocessed/debit/2016-11-01_Statement.pdf\")[1]\n",
    "image_test.size"
   ]
  },
  {
   "cell_type": "code",
   "execution_count": null,
   "metadata": {},
   "outputs": [],
   "source": [
    "#image_test2 = image_test.crop((325,400,1650,2200))\n",
    "image_test2 = image_test.crop((325,397,1650,424))\n",
    "config = \"--psm 12 --oem 1\"\n",
    "string_temp = pytesseract.image_to_string(image_test2, config=config)\n",
    "print(string_temp)"
   ]
  },
  {
   "cell_type": "code",
   "execution_count": null,
   "metadata": {},
   "outputs": [],
   "source": [
    "image_test2"
   ]
  },
  {
   "cell_type": "code",
   "execution_count": null,
   "metadata": {},
   "outputs": [],
   "source": [
    "#image_test2 = image_test.crop((325,400,1650,2200))\n",
    "image_test3 = image_test.crop((325,430,1650,457))\n",
    "config = \"--psm 7 --oem 1\"\n",
    "string_temp = pytesseract.image_to_string(image_test3, config=config)\n",
    "print(string_temp)"
   ]
  },
  {
   "cell_type": "code",
   "execution_count": null,
   "metadata": {},
   "outputs": [],
   "source": [
    "image_test3\n"
   ]
  },
  {
   "cell_type": "code",
   "execution_count": null,
   "metadata": {},
   "outputs": [],
   "source": [
    "image_test4 = image_test.crop((325,463,1650,490))\n",
    "config = \"--psm 7 --oem 1\"\n",
    "string_temp = pytesseract.image_to_string(image_test4, config=config)\n",
    "print(string_temp)"
   ]
  },
  {
   "cell_type": "code",
   "execution_count": null,
   "metadata": {},
   "outputs": [],
   "source": [
    "image_test4"
   ]
  },
  {
   "cell_type": "code",
   "execution_count": null,
   "metadata": {},
   "outputs": [],
   "source": [
    "image_test5 = image_test.crop((325,490+6,1650,490+6+27))\n",
    "config = \"--psm 12 --oem 1\"\n",
    "string_temp = pytesseract.image_to_string(image_test5, config=config)\n",
    "string_temp"
   ]
  },
  {
   "cell_type": "code",
   "execution_count": null,
   "metadata": {},
   "outputs": [],
   "source": [
    "image_test5"
   ]
  },
  {
   "cell_type": "code",
   "execution_count": null,
   "metadata": {},
   "outputs": [],
   "source": [
    "string_temp.rstrip(\"\\n\")"
   ]
  },
  {
   "cell_type": "markdown",
   "metadata": {},
   "source": [
    "Testing for cleaning"
   ]
  },
  {
   "cell_type": "code",
   "execution_count": 1,
   "metadata": {},
   "outputs": [],
   "source": [
    "import pandas as pd\n",
    "temp = pd.read_csv('data/processed/debit/2018-02-01.csv')\n",
    "temp_fileter = temp['date'].str.contains(r\"[0-3][0-9]\\s*[A-Z]{3}\")"
   ]
  },
  {
   "cell_type": "code",
   "execution_count": 2,
   "metadata": {},
   "outputs": [
    {
     "data": {
      "text/html": [
       "<div>\n",
       "<style scoped>\n",
       "    .dataframe tbody tr th:only-of-type {\n",
       "        vertical-align: middle;\n",
       "    }\n",
       "\n",
       "    .dataframe tbody tr th {\n",
       "        vertical-align: top;\n",
       "    }\n",
       "\n",
       "    .dataframe thead th {\n",
       "        text-align: right;\n",
       "    }\n",
       "</style>\n",
       "<table border=\"1\" class=\"dataframe\">\n",
       "  <thead>\n",
       "    <tr style=\"text-align: right;\">\n",
       "      <th></th>\n",
       "      <th>date</th>\n",
       "      <th>description</th>\n",
       "      <th>charge</th>\n",
       "      <th>total</th>\n",
       "    </tr>\n",
       "  </thead>\n",
       "  <tbody>\n",
       "    <tr>\n",
       "      <th>0</th>\n",
       "      <td>02 JAN</td>\n",
       "      <td>C/ACHAT 8421868 COUCHE-TARD # 1</td>\n",
       "      <td>119,99</td>\n",
       "      <td>2 164,38</td>\n",
       "    </tr>\n",
       "    <tr>\n",
       "      <th>1</th>\n",
       "      <td>03 JAN</td>\n",
       "      <td>G/DEPOT 8421868 JOUR-NUIT</td>\n",
       "      <td>508,64</td>\n",
       "      <td>2 673,02</td>\n",
       "    </tr>\n",
       "    <tr>\n",
       "      <th>2</th>\n",
       "      <td>03 JAN</td>\n",
       "      <td>C/ACHAT 8421868 THE HOME DEPOT</td>\n",
       "      <td>10,29</td>\n",
       "      <td>2 662,73</td>\n",
       "    </tr>\n",
       "    <tr>\n",
       "      <th>3</th>\n",
       "      <td>08 JAN</td>\n",
       "      <td>C/ACHAT 8421868 ANIMAL EXPERT</td>\n",
       "      <td>17,24</td>\n",
       "      <td>2 645,49</td>\n",
       "    </tr>\n",
       "    <tr>\n",
       "      <th>4</th>\n",
       "      <td>08 JAN</td>\n",
       "      <td>C/ACHAT 8421868 ECONOMAX #53</td>\n",
       "      <td>458,75</td>\n",
       "      <td>2 186,74</td>\n",
       "    </tr>\n",
       "    <tr>\n",
       "      <th>5</th>\n",
       "      <td>08 JAN</td>\n",
       "      <td>C/ACHAT 8421868 REST EGGSQUIS G</td>\n",
       "      <td>17,12</td>\n",
       "      <td>2 169,62</td>\n",
       "    </tr>\n",
       "    <tr>\n",
       "      <th>6</th>\n",
       "      <td>08 JAN</td>\n",
       "      <td>C/ACHAT 8421868 DOLLARAMA #176</td>\n",
       "      <td>8.05</td>\n",
       "      <td>2 161,57</td>\n",
       "    </tr>\n",
       "    <tr>\n",
       "      <th>7</th>\n",
       "      <td>08 JAN</td>\n",
       "      <td>C/ACHAT 8421868 BEST BUY #82</td>\n",
       "      <td>80,69</td>\n",
       "      <td>2 080,88</td>\n",
       "    </tr>\n",
       "    <tr>\n",
       "      <th>8</th>\n",
       "      <td>10 JAN</td>\n",
       "      <td>C/ACHAT 8421 868 PIZZAHUT R296-</td>\n",
       "      <td>30,34</td>\n",
       "      <td>2 050,54</td>\n",
       "    </tr>\n",
       "    <tr>\n",
       "      <th>9</th>\n",
       "      <td>12 JAN</td>\n",
       "      <td>C/ACHAT 8421868 REST EGGSQUIS G</td>\n",
       "      <td>29,75</td>\n",
       "      <td>2 020,79</td>\n",
       "    </tr>\n",
       "    <tr>\n",
       "      <th>10</th>\n",
       "      <td>12 JAN</td>\n",
       "      <td>C/ACHAT 8421868 MAXI #8911</td>\n",
       "      <td>85,97</td>\n",
       "      <td>1 934,82</td>\n",
       "    </tr>\n",
       "    <tr>\n",
       "      <th>11</th>\n",
       "      <td>15 JAN</td>\n",
       "      <td>DEPOT MOBILE</td>\n",
       "      <td>710,22</td>\n",
       "      <td>2 645,04</td>\n",
       "    </tr>\n",
       "    <tr>\n",
       "      <th>12</th>\n",
       "      <td>17 JAN</td>\n",
       "      <td>C/ACHAT 8421868 EB GAMES 1 866</td>\n",
       "      <td>78,74</td>\n",
       "      <td>2 566,30</td>\n",
       "    </tr>\n",
       "    <tr>\n",
       "      <th>13</th>\n",
       "      <td>17 JAN</td>\n",
       "      <td>C/ACHAT 8421 868 PIZZA PIZZA # 3</td>\n",
       "      <td>22,43</td>\n",
       "      <td>2 543,87</td>\n",
       "    </tr>\n",
       "    <tr>\n",
       "      <th>14</th>\n",
       "      <td>19 JAN</td>\n",
       "      <td>C/ACHAT 8421868 MAXI #8911</td>\n",
       "      <td>124,94</td>\n",
       "      <td>2 418,93</td>\n",
       "    </tr>\n",
       "    <tr>\n",
       "      <th>15</th>\n",
       "      <td>22 JAN</td>\n",
       "      <td>C/ACHAT 8421868 PARTY EXPERT GR</td>\n",
       "      <td>5,74</td>\n",
       "      <td>2 413,19</td>\n",
       "    </tr>\n",
       "    <tr>\n",
       "      <th>16</th>\n",
       "      <td>23 JAN</td>\n",
       "      <td>C/ACHAT 8421 868 BILLETTERIE LON</td>\n",
       "      <td>57,50</td>\n",
       "      <td>2 355,69</td>\n",
       "    </tr>\n",
       "    <tr>\n",
       "      <th>17</th>\n",
       "      <td>23 JAN</td>\n",
       "      <td>C/ACHAT 8421868 WAL-MART #1 167</td>\n",
       "      <td>11,06</td>\n",
       "      <td>2 344,63</td>\n",
       "    </tr>\n",
       "    <tr>\n",
       "      <th>18</th>\n",
       "      <td>24 JAN</td>\n",
       "      <td>C/ACHAT 8421868 PHARMAPRIX #004</td>\n",
       "      <td>15,83</td>\n",
       "      <td>2 328,80</td>\n",
       "    </tr>\n",
       "    <tr>\n",
       "      <th>19</th>\n",
       "      <td>24 JAN</td>\n",
       "      <td>MOBILE PAIEM/FAC</td>\n",
       "      <td>85,16</td>\n",
       "      <td>2 243,64</td>\n",
       "    </tr>\n",
       "    <tr>\n",
       "      <th>20</th>\n",
       "      <td>24 JAN</td>\n",
       "      <td>C/ACHAT 8421 868 BILLETTERIE LON</td>\n",
       "      <td>19,00</td>\n",
       "      <td>2 224,64</td>\n",
       "    </tr>\n",
       "    <tr>\n",
       "      <th>21</th>\n",
       "      <td>26 JAN</td>\n",
       "      <td>C/ACHAT 8421868 CAFE GAR</td>\n",
       "      <td>5,34</td>\n",
       "      <td>2 219,30</td>\n",
       "    </tr>\n",
       "    <tr>\n",
       "      <th>22</th>\n",
       "      <td>29 JAN</td>\n",
       "      <td>C/ACHAT 8421868 SUPER C GREENFI</td>\n",
       "      <td>83,80</td>\n",
       "      <td>2 135,50</td>\n",
       "    </tr>\n",
       "    <tr>\n",
       "      <th>23</th>\n",
       "      <td>29 JAN</td>\n",
       "      <td>G/DEPOT 8421868 JOUR-NUIT</td>\n",
       "      <td>529,95</td>\n",
       "      <td>2 665,45</td>\n",
       "    </tr>\n",
       "    <tr>\n",
       "      <th>24</th>\n",
       "      <td>31JAN</td>\n",
       "      <td>C/ACHAT 8421868 BKSTR CHAMPLAIN</td>\n",
       "      <td>203,70</td>\n",
       "      <td>2 461,75</td>\n",
       "    </tr>\n",
       "    <tr>\n",
       "      <th>25</th>\n",
       "      <td>31JAN</td>\n",
       "      <td>C/ACHAT 8421868 DUNNS FAMOUS</td>\n",
       "      <td>22,48</td>\n",
       "      <td>2 439,27</td>\n",
       "    </tr>\n",
       "    <tr>\n",
       "      <th>26</th>\n",
       "      <td>01 FEV</td>\n",
       "      <td>FRAIS FIXES</td>\n",
       "      <td>2,75</td>\n",
       "      <td>2 436,52</td>\n",
       "    </tr>\n",
       "  </tbody>\n",
       "</table>\n",
       "</div>"
      ],
      "text/plain": [
       "      date                       description  charge     total\n",
       "0   02 JAN   C/ACHAT 8421868 COUCHE-TARD # 1  119,99  2 164,38\n",
       "1   03 JAN         G/DEPOT 8421868 JOUR-NUIT  508,64  2 673,02\n",
       "2   03 JAN    C/ACHAT 8421868 THE HOME DEPOT   10,29  2 662,73\n",
       "3   08 JAN     C/ACHAT 8421868 ANIMAL EXPERT   17,24  2 645,49\n",
       "4   08 JAN      C/ACHAT 8421868 ECONOMAX #53  458,75  2 186,74\n",
       "5   08 JAN   C/ACHAT 8421868 REST EGGSQUIS G   17,12  2 169,62\n",
       "6   08 JAN    C/ACHAT 8421868 DOLLARAMA #176    8.05  2 161,57\n",
       "7   08 JAN      C/ACHAT 8421868 BEST BUY #82   80,69  2 080,88\n",
       "8   10 JAN   C/ACHAT 8421 868 PIZZAHUT R296-   30,34  2 050,54\n",
       "9   12 JAN   C/ACHAT 8421868 REST EGGSQUIS G   29,75  2 020,79\n",
       "10  12 JAN        C/ACHAT 8421868 MAXI #8911   85,97  1 934,82\n",
       "11  15 JAN                      DEPOT MOBILE  710,22  2 645,04\n",
       "12  17 JAN    C/ACHAT 8421868 EB GAMES 1 866   78,74  2 566,30\n",
       "13  17 JAN  C/ACHAT 8421 868 PIZZA PIZZA # 3   22,43  2 543,87\n",
       "14  19 JAN        C/ACHAT 8421868 MAXI #8911  124,94  2 418,93\n",
       "15  22 JAN   C/ACHAT 8421868 PARTY EXPERT GR    5,74  2 413,19\n",
       "16  23 JAN  C/ACHAT 8421 868 BILLETTERIE LON   57,50  2 355,69\n",
       "17  23 JAN   C/ACHAT 8421868 WAL-MART #1 167   11,06  2 344,63\n",
       "18  24 JAN   C/ACHAT 8421868 PHARMAPRIX #004   15,83  2 328,80\n",
       "19  24 JAN                  MOBILE PAIEM/FAC   85,16  2 243,64\n",
       "20  24 JAN  C/ACHAT 8421 868 BILLETTERIE LON   19,00  2 224,64\n",
       "21  26 JAN          C/ACHAT 8421868 CAFE GAR    5,34  2 219,30\n",
       "22  29 JAN   C/ACHAT 8421868 SUPER C GREENFI   83,80  2 135,50\n",
       "23  29 JAN         G/DEPOT 8421868 JOUR-NUIT  529,95  2 665,45\n",
       "24   31JAN   C/ACHAT 8421868 BKSTR CHAMPLAIN  203,70  2 461,75\n",
       "25   31JAN      C/ACHAT 8421868 DUNNS FAMOUS   22,48  2 439,27\n",
       "26  01 FEV                       FRAIS FIXES    2,75  2 436,52"
      ]
     },
     "execution_count": 2,
     "metadata": {},
     "output_type": "execute_result"
    }
   ],
   "source": [
    "temp[temp_fileter]"
   ]
  },
  {
   "cell_type": "code",
   "execution_count": 5,
   "metadata": {},
   "outputs": [
    {
     "data": {
      "text/html": [
       "<div>\n",
       "<style scoped>\n",
       "    .dataframe tbody tr th:only-of-type {\n",
       "        vertical-align: middle;\n",
       "    }\n",
       "\n",
       "    .dataframe tbody tr th {\n",
       "        vertical-align: top;\n",
       "    }\n",
       "\n",
       "    .dataframe thead th {\n",
       "        text-align: right;\n",
       "    }\n",
       "</style>\n",
       "<table border=\"1\" class=\"dataframe\">\n",
       "  <thead>\n",
       "    <tr style=\"text-align: right;\">\n",
       "      <th></th>\n",
       "      <th>date</th>\n",
       "      <th>description</th>\n",
       "      <th>charge</th>\n",
       "      <th>total</th>\n",
       "    </tr>\n",
       "  </thead>\n",
       "  <tbody>\n",
       "    <tr>\n",
       "      <th>0</th>\n",
       "      <td>01 NOV</td>\n",
       "      <td>FR TENUE DE CPTE</td>\n",
       "      <td>2,50</td>\n",
       "      <td>-2,50</td>\n",
       "    </tr>\n",
       "    <tr>\n",
       "      <th>1</th>\n",
       "      <td>01 NOV</td>\n",
       "      <td>FRAIS FIXES</td>\n",
       "      <td>0,44</td>\n",
       "      <td>-2,94</td>\n",
       "    </tr>\n",
       "    <tr>\n",
       "      <th>0</th>\n",
       "      <td>01 DEC</td>\n",
       "      <td>FR TENUE DE CPTE</td>\n",
       "      <td>2,50</td>\n",
       "      <td>-5,44</td>\n",
       "    </tr>\n",
       "    <tr>\n",
       "      <th>1</th>\n",
       "      <td>01 DEC</td>\n",
       "      <td>FRAIS FIXES</td>\n",
       "      <td>2,75</td>\n",
       "      <td>-8,19</td>\n",
       "    </tr>\n",
       "    <tr>\n",
       "      <th>2</th>\n",
       "      <td>01 DEC</td>\n",
       "      <td>INTERETS DECOUVERT</td>\n",
       "      <td>0,05</td>\n",
       "      <td>-8,24</td>\n",
       "    </tr>\n",
       "  </tbody>\n",
       "</table>\n",
       "</div>"
      ],
      "text/plain": [
       "     date         description charge  total\n",
       "0  01 NOV    FR TENUE DE CPTE   2,50  -2,50\n",
       "1  01 NOV         FRAIS FIXES   0,44  -2,94\n",
       "0  01 DEC    FR TENUE DE CPTE   2,50  -5,44\n",
       "1  01 DEC         FRAIS FIXES   2,75  -8,19\n",
       "2  01 DEC  INTERETS DECOUVERT   0,05  -8,24"
      ]
     },
     "execution_count": 5,
     "metadata": {},
     "output_type": "execute_result"
    }
   ],
   "source": [
    "import pandas as pd\n",
    "#testing the concatination of csvs\n",
    "\"data/processed/debit/2016-12-01.csv\"\n",
    "temp1 = pd.read_csv(\"data/processed/debit/2016-11-01.csv\")\n",
    "temp2 = pd.read_csv(\"data/processed/debit/2016-12-01.csv\")\n",
    "pd.concat([temp1,temp2])"
   ]
  },
  {
   "cell_type": "code",
   "execution_count": null,
   "metadata": {},
   "outputs": [],
   "source": []
  }
 ],
 "metadata": {
  "interpreter": {
   "hash": "31668c276e2b8e47189cd17d89a548db85eb18b031d19ae00671844f6622a6b2"
  },
  "kernelspec": {
   "display_name": "Python 3.9.12 ('habit_env')",
   "language": "python",
   "name": "python3"
  },
  "language_info": {
   "codemirror_mode": {
    "name": "ipython",
    "version": 3
   },
   "file_extension": ".py",
   "mimetype": "text/x-python",
   "name": "python",
   "nbconvert_exporter": "python",
   "pygments_lexer": "ipython3",
   "version": "3.9.12"
  },
  "orig_nbformat": 4
 },
 "nbformat": 4,
 "nbformat_minor": 2
}
